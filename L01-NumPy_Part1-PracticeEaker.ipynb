{
 "cells": [
  {
   "cell_type": "markdown",
   "metadata": {},
   "source": [
    "# Lesson 1 Practice: NumPy Part 1\n",
    "Use this notebook to follow along with the lesson in the corresponding lesson notebook: [L01-Numpy_Part1-Lesson.ipynb](./L01-Numpy_Part1-Lesson.ipynb).  \n",
    "\n"
   ]
  },
  {
   "cell_type": "markdown",
   "metadata": {},
   "source": [
    "## Instructions\n",
    "Follow along with the teaching material in the lesson. Throughout the tutorial sections labeled as \"Tasks\" are interspersed and indicated with the icon: ![Task](http://icons.iconarchive.com/icons/sbstnblnd/plateau/16/Apps-gnome-info-icon.png). You should follow the instructions provided in these sections by performing them in the practice notebook.  When the tutorial is completed you can turn in the final practice notebook. For each task, use the cell below it to write and test your code.  You may add additional cells for any task as needed or desired.  "
   ]
  },
  {
   "cell_type": "markdown",
   "metadata": {},
   "source": [
    "## Task 1a: Setup\n",
    "\n",
    "In the practice notebook, import the following packages:\n",
    "+ `numpy` as `np`"
   ]
  },
  {
   "cell_type": "code",
   "execution_count": 1,
   "metadata": {},
   "outputs": [],
   "source": [
    "import numpy as np"
   ]
  },
  {
   "cell_type": "markdown",
   "metadata": {},
   "source": [
    "## Task 2a: Creating Arrays\n",
    "\n",
    "In the practice notebook, perform the following.  \n",
    "- Create a 1-dimensional numpy array and print it.\n",
    "- Create a 2-dimensional numpy array and print it.\n",
    "- Create a 3-dimensional numpy array and print it."
   ]
  },
  {
   "cell_type": "code",
   "execution_count": 3,
   "metadata": {},
   "outputs": [],
   "source": [
    "oneD_array = np.array([5,6,7,8])"
   ]
  },
  {
   "cell_type": "code",
   "execution_count": 4,
   "metadata": {},
   "outputs": [
    {
     "name": "stdout",
     "output_type": "stream",
     "text": [
      "[5 6 7 8]\n"
     ]
    }
   ],
   "source": [
    "print(oneD_array)"
   ]
  },
  {
   "cell_type": "code",
   "execution_count": 6,
   "metadata": {},
   "outputs": [],
   "source": [
    "twoD_array = np.array([[5, 6, 7, 8], [9, 10, 11, 12]])"
   ]
  },
  {
   "cell_type": "code",
   "execution_count": 7,
   "metadata": {},
   "outputs": [
    {
     "name": "stdout",
     "output_type": "stream",
     "text": [
      "[[ 5  6  7  8]\n",
      " [ 9 10 11 12]]\n"
     ]
    }
   ],
   "source": [
    "print(twoD_array)"
   ]
  },
  {
   "cell_type": "code",
   "execution_count": 8,
   "metadata": {},
   "outputs": [],
   "source": [
    "threeD_array = np.array([[[5, 6, 7, 8], [9, 10, 11, 12]], [[1,2, 3, 4], [13, 14, 15, 16]]])"
   ]
  },
  {
   "cell_type": "code",
   "execution_count": 9,
   "metadata": {},
   "outputs": [
    {
     "name": "stdout",
     "output_type": "stream",
     "text": [
      "[[[ 5  6  7  8]\n",
      "  [ 9 10 11 12]]\n",
      "\n",
      " [[ 1  2  3  4]\n",
      "  [13 14 15 16]]]\n"
     ]
    }
   ],
   "source": [
    "print(threeD_array)"
   ]
  },
  {
   "cell_type": "markdown",
   "metadata": {},
   "source": [
    "## Task 3a: Accessing Array Attributes\n",
    "\n",
    "In the practice notebook, perform the following.\n",
    "\n",
    "- Create a NumPy array.\n",
    "- Write code that prints these attributes (one per line): `ndim`, `shape`, `size`, `dtype`, `itemsize`, `data`, `nbytes`.\n",
    "- Add a comment line, before each line describing what value the attribute returns. \n"
   ]
  },
  {
   "cell_type": "code",
   "execution_count": 10,
   "metadata": {},
   "outputs": [],
   "source": [
    "twoD_array = np.array([[5, 6, 7, 8], [9, 10, 11, 12]])"
   ]
  },
  {
   "cell_type": "code",
   "execution_count": 11,
   "metadata": {},
   "outputs": [
    {
     "name": "stdout",
     "output_type": "stream",
     "text": [
      "2\n"
     ]
    }
   ],
   "source": [
    " # print number of dimensions\n",
    "print(twoD_array.ndim)"
   ]
  },
  {
   "cell_type": "code",
   "execution_count": 12,
   "metadata": {},
   "outputs": [
    {
     "name": "stdout",
     "output_type": "stream",
     "text": [
      "(2, 4)\n"
     ]
    }
   ],
   "source": [
    "# print row and column number\n",
    "print(twoD_array.shape) "
   ]
  },
  {
   "cell_type": "code",
   "execution_count": 13,
   "metadata": {},
   "outputs": [
    {
     "name": "stdout",
     "output_type": "stream",
     "text": [
      "8\n"
     ]
    }
   ],
   "source": [
    "# print number of items in array\n",
    "print(twoD_array.size)"
   ]
  },
  {
   "cell_type": "code",
   "execution_count": 14,
   "metadata": {},
   "outputs": [
    {
     "name": "stdout",
     "output_type": "stream",
     "text": [
      "int32\n"
     ]
    }
   ],
   "source": [
    "# print data type of the items in array\n",
    "print(twoD_array.dtype)"
   ]
  },
  {
   "cell_type": "code",
   "execution_count": 15,
   "metadata": {},
   "outputs": [
    {
     "name": "stdout",
     "output_type": "stream",
     "text": [
      "4\n"
     ]
    }
   ],
   "source": [
    "# print length of one items in bytes\n",
    "print(twoD_array.itemsize)"
   ]
  },
  {
   "cell_type": "code",
   "execution_count": 16,
   "metadata": {},
   "outputs": [
    {
     "name": "stdout",
     "output_type": "stream",
     "text": [
      "<memory at 0x000001EBB352E3C8>\n"
     ]
    }
   ],
   "source": [
    "# print buffer object pointing to start of array\n",
    "print(twoD_array.data)"
   ]
  },
  {
   "cell_type": "code",
   "execution_count": 17,
   "metadata": {},
   "outputs": [
    {
     "name": "stdout",
     "output_type": "stream",
     "text": [
      "32\n"
     ]
    }
   ],
   "source": [
    "# print size of array in bytes\n",
    "print(twoD_array.nbytes)"
   ]
  },
  {
   "cell_type": "markdown",
   "metadata": {},
   "source": [
    "## Task 4a: Initializing Arrays\n",
    "\n",
    "In the practice notebook, perform the following.\n",
    "\n",
    "+ Create an initialized array by using these functions:  `ones`, `zeros`, `empty`, `full`, `arange`, `linspace` and `random.random`. Be sure to follow each array creation with a call to `print()` to display your newly created arrays. \n",
    "+ Add a comment above each function call describing what is being done.  "
   ]
  },
  {
   "cell_type": "code",
   "execution_count": 18,
   "metadata": {},
   "outputs": [
    {
     "data": {
      "text/plain": [
       "array([1., 1., 1., 1., 1., 1., 1., 1., 1., 1.])"
      ]
     },
     "execution_count": 18,
     "metadata": {},
     "output_type": "execute_result"
    }
   ],
   "source": [
    "# creates an array of 10 one's\n",
    "np.ones(10)"
   ]
  },
  {
   "cell_type": "code",
   "execution_count": 19,
   "metadata": {},
   "outputs": [
    {
     "data": {
      "text/plain": [
       "array([0., 0., 0., 0., 0., 0., 0., 0., 0., 0.])"
      ]
     },
     "execution_count": 19,
     "metadata": {},
     "output_type": "execute_result"
    }
   ],
   "source": [
    "# creates an array of 10 zeros\n",
    "np.zeros(10)"
   ]
  },
  {
   "cell_type": "code",
   "execution_count": 23,
   "metadata": {
    "scrolled": true
   },
   "outputs": [
    {
     "data": {
      "text/plain": [
       "array([[4.67296746e-307, 1.69121096e-306],\n",
       "       [8.01093136e-307, 1.11256817e-306],\n",
       "       [1.06811422e-306, 1.42417221e-306],\n",
       "       [1.11260619e-306, 8.90094053e-307],\n",
       "       [1.86919378e-306, 1.06809792e-306],\n",
       "       [1.37962456e-306, 1.69111861e-306],\n",
       "       [1.78020169e-306, 1.37961777e-306],\n",
       "       [7.56599807e-307, 7.56599806e-307]])"
      ]
     },
     "execution_count": 23,
     "metadata": {},
     "output_type": "execute_result"
    }
   ],
   "source": [
    "# creates an array of dimensions specified, not initialized\n",
    "np.empty([8, 2])"
   ]
  },
  {
   "cell_type": "code",
   "execution_count": 27,
   "metadata": {},
   "outputs": [
    {
     "data": {
      "text/plain": [
       "array([[2, 2],\n",
       "       [2, 2],\n",
       "       [2, 2],\n",
       "       [2, 2],\n",
       "       [2, 2],\n",
       "       [2, 2],\n",
       "       [2, 2],\n",
       "       [2, 2]])"
      ]
     },
     "execution_count": 27,
     "metadata": {},
     "output_type": "execute_result"
    }
   ],
   "source": [
    "# creates an array of dimensions 8 x 2 filled with \"2\"\n",
    "np.full((8, 2), 2)"
   ]
  },
  {
   "cell_type": "code",
   "execution_count": 28,
   "metadata": {},
   "outputs": [
    {
     "data": {
      "text/plain": [
       "array([ 1,  6, 11, 16])"
      ]
     },
     "execution_count": 28,
     "metadata": {},
     "output_type": "execute_result"
    }
   ],
   "source": [
    "# creates an array of numbers from 1 - 20 using only every 5th\n",
    "np.arange(1, 20, 5)"
   ]
  },
  {
   "cell_type": "code",
   "execution_count": 29,
   "metadata": {},
   "outputs": [
    {
     "data": {
      "text/plain": [
       "array([ 2.,  4.,  6.,  8., 10., 12., 14., 16., 18., 20.])"
      ]
     },
     "execution_count": 29,
     "metadata": {},
     "output_type": "execute_result"
    }
   ],
   "source": [
    "# creates an array starting at 2, ending at 20, filled with 10 numbers\n",
    "np.linspace(2, 20, 10)"
   ]
  },
  {
   "cell_type": "code",
   "execution_count": 30,
   "metadata": {},
   "outputs": [
    {
     "data": {
      "text/plain": [
       "array([0.33495932, 0.57404721, 0.87261038, 0.82405063, 0.03622936,\n",
       "       0.3565162 , 0.7708868 , 0.11045809, 0.50981113, 0.52925122])"
      ]
     },
     "execution_count": 30,
     "metadata": {},
     "output_type": "execute_result"
    }
   ],
   "source": [
    "# creates an array of 10 random numbers between 0 and 1\n",
    "np.random.random(10)"
   ]
  },
  {
   "cell_type": "markdown",
   "metadata": {},
   "source": [
    "## Task 5a:  Broadcasting Arrays\n",
    "\n",
    "In the practice notebook, perform the following.\n",
    "\n",
    "+ Create two arrays of differing sizes but compatible with broadcasting.\n",
    "+ Perform addition, multiplication and subtraction.\n",
    "+ Create two additional arrays of differing size that do not meet the rules for broadcasting and try a mathematical operation.  "
   ]
  },
  {
   "cell_type": "code",
   "execution_count": 6,
   "metadata": {},
   "outputs": [],
   "source": [
    "# construct arrays\n",
    "array_e = np.ones((3, 2))\n",
    "array_f = np.random.random((6, 1, 2))\n",
    "print(array_e)\n",
    "print(array_f)"
   ]
  },
  {
   "cell_type": "code",
   "execution_count": 10,
   "metadata": {},
   "outputs": [
    {
     "name": "stdout",
     "output_type": "stream",
     "text": [
      "[[[1.87617669 1.15390372]\n",
      "  [1.87617669 1.15390372]\n",
      "  [1.87617669 1.15390372]]\n",
      "\n",
      " [[1.67283089 1.34844636]\n",
      "  [1.67283089 1.34844636]\n",
      "  [1.67283089 1.34844636]]\n",
      "\n",
      " [[1.86071309 1.45732087]\n",
      "  [1.86071309 1.45732087]\n",
      "  [1.86071309 1.45732087]]\n",
      "\n",
      " [[1.68121065 1.68866773]\n",
      "  [1.68121065 1.68866773]\n",
      "  [1.68121065 1.68866773]]\n",
      "\n",
      " [[1.19545912 1.42030642]\n",
      "  [1.19545912 1.42030642]\n",
      "  [1.19545912 1.42030642]]\n",
      "\n",
      " [[1.10843648 1.45627298]\n",
      "  [1.10843648 1.45627298]\n",
      "  [1.10843648 1.45627298]]]\n"
     ]
    }
   ],
   "source": [
    "sum = array_e + array_f\n",
    "print(sum)"
   ]
  },
  {
   "cell_type": "code",
   "execution_count": 12,
   "metadata": {},
   "outputs": [
    {
     "name": "stdout",
     "output_type": "stream",
     "text": [
      "[[[0.87617669 0.15390372]\n",
      "  [0.87617669 0.15390372]\n",
      "  [0.87617669 0.15390372]]\n",
      "\n",
      " [[0.67283089 0.34844636]\n",
      "  [0.67283089 0.34844636]\n",
      "  [0.67283089 0.34844636]]\n",
      "\n",
      " [[0.86071309 0.45732087]\n",
      "  [0.86071309 0.45732087]\n",
      "  [0.86071309 0.45732087]]\n",
      "\n",
      " [[0.68121065 0.68866773]\n",
      "  [0.68121065 0.68866773]\n",
      "  [0.68121065 0.68866773]]\n",
      "\n",
      " [[0.19545912 0.42030642]\n",
      "  [0.19545912 0.42030642]\n",
      "  [0.19545912 0.42030642]]\n",
      "\n",
      " [[0.10843648 0.45627298]\n",
      "  [0.10843648 0.45627298]\n",
      "  [0.10843648 0.45627298]]]\n"
     ]
    }
   ],
   "source": [
    "mult = array_e * array_f\n",
    "print(mult)"
   ]
  },
  {
   "cell_type": "code",
   "execution_count": 13,
   "metadata": {},
   "outputs": [
    {
     "name": "stdout",
     "output_type": "stream",
     "text": [
      "[[[0.12382331 0.84609628]\n",
      "  [0.12382331 0.84609628]\n",
      "  [0.12382331 0.84609628]]\n",
      "\n",
      " [[0.32716911 0.65155364]\n",
      "  [0.32716911 0.65155364]\n",
      "  [0.32716911 0.65155364]]\n",
      "\n",
      " [[0.13928691 0.54267913]\n",
      "  [0.13928691 0.54267913]\n",
      "  [0.13928691 0.54267913]]\n",
      "\n",
      " [[0.31878935 0.31133227]\n",
      "  [0.31878935 0.31133227]\n",
      "  [0.31878935 0.31133227]]\n",
      "\n",
      " [[0.80454088 0.57969358]\n",
      "  [0.80454088 0.57969358]\n",
      "  [0.80454088 0.57969358]]\n",
      "\n",
      " [[0.89156352 0.54372702]\n",
      "  [0.89156352 0.54372702]\n",
      "  [0.89156352 0.54372702]]]\n"
     ]
    }
   ],
   "source": [
    "subtr = array_e - array_f\n",
    "print(subtr)"
   ]
  },
  {
   "cell_type": "code",
   "execution_count": 14,
   "metadata": {},
   "outputs": [],
   "source": [
    "array_g = np.ones((5, 8))\n",
    "array_h = np.random.random((6, 5, 2))"
   ]
  },
  {
   "cell_type": "code",
   "execution_count": 15,
   "metadata": {},
   "outputs": [
    {
     "ename": "ValueError",
     "evalue": "operands could not be broadcast together with shapes (5,8) (6,5,2) ",
     "output_type": "error",
     "traceback": [
      "\u001b[1;31m---------------------------------------------------------------------------\u001b[0m",
      "\u001b[1;31mValueError\u001b[0m                                Traceback (most recent call last)",
      "\u001b[1;32m<ipython-input-15-332f5a69765f>\u001b[0m in \u001b[0;36m<module>\u001b[1;34m\u001b[0m\n\u001b[1;32m----> 1\u001b[1;33m \u001b[0msum\u001b[0m \u001b[1;33m=\u001b[0m \u001b[0marray_g\u001b[0m \u001b[1;33m+\u001b[0m \u001b[0marray_h\u001b[0m\u001b[1;33m\u001b[0m\u001b[1;33m\u001b[0m\u001b[0m\n\u001b[0m",
      "\u001b[1;31mValueError\u001b[0m: operands could not be broadcast together with shapes (5,8) (6,5,2) "
     ]
    }
   ],
   "source": [
    "sum = array_g + array_h"
   ]
  },
  {
   "cell_type": "markdown",
   "metadata": {},
   "source": [
    "## Task 6a: Math/Stats Aggregate Functions\n",
    "\n",
    "In the practice notebook, perform the following.\n",
    "\n",
    "+ Create three to five arrays\n",
    "+ Experiment with each of the aggregation functions: `sum`, `minimum`, `maximum`, `cumsum`, `mean`, `np.corrcoef`, `np.std`, `np.var`. \n",
    "+ For each function call, add a comment line above it that describes what it does.  \n",
    "```\n"
   ]
  },
  {
   "cell_type": "code",
   "execution_count": 19,
   "metadata": {},
   "outputs": [
    {
     "name": "stdout",
     "output_type": "stream",
     "text": [
      "[[0.3104655  0.48369523 0.52435171]\n",
      " [0.36540895 0.59893747 0.14809683]\n",
      " [0.78579995 0.16124105 0.22732655]\n",
      " [0.29174218 0.01053346 0.56403835]]\n",
      "[[[0.32171084]\n",
      "  [0.27746874]\n",
      "  [0.14486438]\n",
      "  [0.81509354]\n",
      "  [0.77756416]\n",
      "  [0.60231425]\n",
      "  [0.08728049]]\n",
      "\n",
      " [[0.46837191]\n",
      "  [0.23087519]\n",
      "  [0.93106314]\n",
      "  [0.84861338]\n",
      "  [0.58564041]\n",
      "  [0.60629508]\n",
      "  [0.50742391]]\n",
      "\n",
      " [[0.80063262]\n",
      "  [0.97808722]\n",
      "  [0.32053921]\n",
      "  [0.1592595 ]\n",
      "  [0.7685346 ]\n",
      "  [0.47486862]\n",
      "  [0.50231299]]\n",
      "\n",
      " [[0.96268032]\n",
      "  [0.15812362]\n",
      "  [0.17550434]\n",
      "  [0.07873943]\n",
      "  [0.55609128]\n",
      "  [0.2026025 ]\n",
      "  [0.91406641]]\n",
      "\n",
      " [[0.44657524]\n",
      "  [0.42124789]\n",
      "  [0.37205038]\n",
      "  [0.60954299]\n",
      "  [0.40452797]\n",
      "  [0.31410053]\n",
      "  [0.89355953]]\n",
      "\n",
      " [[0.68493714]\n",
      "  [0.99591154]\n",
      "  [0.88780991]\n",
      "  [0.98777977]\n",
      "  [0.6995028 ]\n",
      "  [0.34832131]\n",
      "  [0.53945569]]]\n",
      "[[[0.95053024 0.81508265]\n",
      "  [0.72482515 0.73022194]\n",
      "  [0.16594717 0.5424762 ]\n",
      "  [0.43534877 0.92289844]]\n",
      "\n",
      " [[0.66446564 0.74495081]\n",
      "  [0.5844892  0.89422084]\n",
      "  [0.0272754  0.85775599]\n",
      "  [0.54418874 0.75941424]]]\n"
     ]
    }
   ],
   "source": [
    "array1 = np.random.random((4, 3)) \n",
    "array2 = np.random.random((6, 7, 1))\n",
    "array3 = np.random.random((2, 4, 2))\n",
    "print(array1)\n",
    "print(array2)\n",
    "print(array3)"
   ]
  },
  {
   "cell_type": "code",
   "execution_count": 22,
   "metadata": {},
   "outputs": [
    {
     "data": {
      "text/plain": [
       "4.471637238024238"
      ]
     },
     "execution_count": 22,
     "metadata": {},
     "output_type": "execute_result"
    }
   ],
   "source": [
    "# sums the array over all elements unless an axis is specified\n",
    "np.sum(array1)"
   ]
  },
  {
   "cell_type": "code",
   "execution_count": 24,
   "metadata": {},
   "outputs": [
    {
     "data": {
      "text/plain": [
       "array([[[0.32171084],\n",
       "        [0.27746874],\n",
       "        [0.14486438],\n",
       "        [0.81509354],\n",
       "        [0.77756416],\n",
       "        [0.60231425],\n",
       "        [0.08728049]],\n",
       "\n",
       "       [[0.46837191],\n",
       "        [0.23087519],\n",
       "        [0.93106314],\n",
       "        [0.84861338],\n",
       "        [0.58564041],\n",
       "        [0.60629508],\n",
       "        [0.50742391]],\n",
       "\n",
       "       [[0.80063262],\n",
       "        [0.97808722],\n",
       "        [0.32053921],\n",
       "        [0.1592595 ],\n",
       "        [0.7685346 ],\n",
       "        [0.47486862],\n",
       "        [0.50231299]],\n",
       "\n",
       "       [[0.96268032],\n",
       "        [0.15812362],\n",
       "        [0.17550434],\n",
       "        [0.07873943],\n",
       "        [0.55609128],\n",
       "        [0.2026025 ],\n",
       "        [0.91406641]],\n",
       "\n",
       "       [[0.44657524],\n",
       "        [0.42124789],\n",
       "        [0.37205038],\n",
       "        [0.60954299],\n",
       "        [0.40452797],\n",
       "        [0.31410053],\n",
       "        [0.89355953]],\n",
       "\n",
       "       [[0.68493714],\n",
       "        [0.99591154],\n",
       "        [0.88780991],\n",
       "        [0.98777977],\n",
       "        [0.6995028 ],\n",
       "        [0.34832131],\n",
       "        [0.53945569]]])"
      ]
     },
     "execution_count": 24,
     "metadata": {},
     "output_type": "execute_result"
    }
   ],
   "source": [
    "# returns a new array of the smallest element at each position on specified axis\n",
    "np.minimum(array2, 2)"
   ]
  },
  {
   "cell_type": "code",
   "execution_count": 25,
   "metadata": {},
   "outputs": [
    {
     "data": {
      "text/plain": [
       "array([[[3., 3.],\n",
       "        [3., 3.],\n",
       "        [3., 3.],\n",
       "        [3., 3.]],\n",
       "\n",
       "       [[3., 3.],\n",
       "        [3., 3.],\n",
       "        [3., 3.],\n",
       "        [3., 3.]]])"
      ]
     },
     "execution_count": 25,
     "metadata": {},
     "output_type": "execute_result"
    }
   ],
   "source": [
    "# returns a new array of the largest element at each position on specified axis\n",
    "np.maximum(array3, 3)"
   ]
  },
  {
   "cell_type": "code",
   "execution_count": 26,
   "metadata": {},
   "outputs": [
    {
     "data": {
      "text/plain": [
       "array([[0.3104655 , 0.79416073, 1.31851244],\n",
       "       [0.36540895, 0.96434642, 1.11244325],\n",
       "       [0.78579995, 0.947041  , 1.17436756],\n",
       "       [0.29174218, 0.30227564, 0.86631399]])"
      ]
     },
     "execution_count": 26,
     "metadata": {},
     "output_type": "execute_result"
    }
   ],
   "source": [
    "# returns cummulative sum of elements along a given axis\n",
    "np.cumsum(array1, 1)"
   ]
  },
  {
   "cell_type": "code",
   "execution_count": 27,
   "metadata": {},
   "outputs": [
    {
     "data": {
      "text/plain": [
       "array([[0.32171084, 0.27746874, 0.14486438, 0.81509354, 0.77756416,\n",
       "        0.60231425, 0.08728049],\n",
       "       [0.46837191, 0.23087519, 0.93106314, 0.84861338, 0.58564041,\n",
       "        0.60629508, 0.50742391],\n",
       "       [0.80063262, 0.97808722, 0.32053921, 0.1592595 , 0.7685346 ,\n",
       "        0.47486862, 0.50231299],\n",
       "       [0.96268032, 0.15812362, 0.17550434, 0.07873943, 0.55609128,\n",
       "        0.2026025 , 0.91406641],\n",
       "       [0.44657524, 0.42124789, 0.37205038, 0.60954299, 0.40452797,\n",
       "        0.31410053, 0.89355953],\n",
       "       [0.68493714, 0.99591154, 0.88780991, 0.98777977, 0.6995028 ,\n",
       "        0.34832131, 0.53945569]])"
      ]
     },
     "execution_count": 27,
     "metadata": {},
     "output_type": "execute_result"
    }
   ],
   "source": [
    "# returns the mean along specified axis\n",
    "np.mean(array2, 2)"
   ]
  },
  {
   "cell_type": "code",
   "execution_count": 28,
   "metadata": {},
   "outputs": [
    {
     "data": {
      "text/plain": [
       "array([[ 1.        , -0.15850426, -0.96204586,  0.16981626],\n",
       "       [-0.15850426,  1.        , -0.11694969, -0.99993425],\n",
       "       [-0.96204586, -0.11694969,  1.        ,  0.1055533 ],\n",
       "       [ 0.16981626, -0.99993425,  0.1055533 ,  1.        ]])"
      ]
     },
     "execution_count": 28,
     "metadata": {},
     "output_type": "execute_result"
    }
   ],
   "source": [
    "# returns Pearson correlation coefficients between two 1D arrays or one 2D array\n",
    "np.corrcoef(array1)"
   ]
  },
  {
   "cell_type": "code",
   "execution_count": 29,
   "metadata": {},
   "outputs": [
    {
     "data": {
      "text/plain": [
       "array([[0.29587199, 0.13924655],\n",
       "       [0.25077192, 0.06343764]])"
      ]
     },
     "execution_count": 29,
     "metadata": {},
     "output_type": "execute_result"
    }
   ],
   "source": [
    "# returns the standard deviation along specified axis\n",
    "np.std(array3, 1)"
   ]
  },
  {
   "cell_type": "code",
   "execution_count": 31,
   "metadata": {},
   "outputs": [
    {
     "data": {
      "text/plain": [
       "array([0.04097254, 0.05635311, 0.03275164])"
      ]
     },
     "execution_count": 31,
     "metadata": {},
     "output_type": "execute_result"
    }
   ],
   "source": [
    "# returns the variance along specified axis\n",
    "np.var(array1, axis=0)"
   ]
  },
  {
   "cell_type": "markdown",
   "metadata": {},
   "source": [
    "## Task 6b: Logical Aggregate Functions\n",
    "\n",
    "In the practice notebook, perform the following.\n",
    "\n",
    "+ Create two arrays containing boolean values.\n",
    "+ Experiment with each of the aggregation functions: `logical_and`, `logical_or`, `logical_not`. \n",
    "+ For each function call, add a comment line above it that describes what it does.  \n",
    "```"
   ]
  },
  {
   "cell_type": "code",
   "execution_count": 32,
   "metadata": {},
   "outputs": [],
   "source": [
    "# create two boolean arrays of same dimensions\n",
    "boo1 = [True, False, False, False, True]\n",
    "boo2 = [True, False, True, True, False]"
   ]
  },
  {
   "cell_type": "code",
   "execution_count": 33,
   "metadata": {},
   "outputs": [
    {
     "data": {
      "text/plain": [
       "array([ True, False, False, False, False])"
      ]
     },
     "execution_count": 33,
     "metadata": {},
     "output_type": "execute_result"
    }
   ],
   "source": [
    "# apply logical 'and' comparison with boo1 and boo2, returns array of answer\n",
    "np.logical_and(boo1, boo2)"
   ]
  },
  {
   "cell_type": "code",
   "execution_count": 40,
   "metadata": {},
   "outputs": [
    {
     "data": {
      "text/plain": [
       "array([False,  True,  True,  True, False])"
      ]
     },
     "execution_count": 40,
     "metadata": {},
     "output_type": "execute_result"
    }
   ],
   "source": [
    "# apply logical 'not' to boo1 returns array of answer\n",
    "np.logical_not(boo1)"
   ]
  },
  {
   "cell_type": "code",
   "execution_count": 35,
   "metadata": {},
   "outputs": [
    {
     "data": {
      "text/plain": [
       "array([ True, False,  True,  True,  True])"
      ]
     },
     "execution_count": 35,
     "metadata": {},
     "output_type": "execute_result"
    }
   ],
   "source": [
    "# apply logical 'or' comparison with boo1 and boo2, returns array of answer\n",
    "np.logical_or(boo1, boo2)"
   ]
  }
 ],
 "metadata": {
  "kernelspec": {
   "display_name": "Python 3",
   "language": "python",
   "name": "python3"
  },
  "language_info": {
   "codemirror_mode": {
    "name": "ipython",
    "version": 3
   },
   "file_extension": ".py",
   "mimetype": "text/x-python",
   "name": "python",
   "nbconvert_exporter": "python",
   "pygments_lexer": "ipython3",
   "version": "3.7.4"
  }
 },
 "nbformat": 4,
 "nbformat_minor": 4
}
