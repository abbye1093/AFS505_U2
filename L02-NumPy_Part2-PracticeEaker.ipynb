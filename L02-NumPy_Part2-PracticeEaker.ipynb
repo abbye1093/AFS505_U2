{
 "cells": [
  {
   "cell_type": "markdown",
   "metadata": {},
   "source": [
    "# Lesson 2 Practice: NumPy Part 2\n",
    "Use this notebook to follow along with the lesson in the corresponding lesson notebook: [L02-Numpy_Part2-Lesson.ipynb](./L02-Numpy_Part2-Lesson.ipynb).  \n"
   ]
  },
  {
   "cell_type": "markdown",
   "metadata": {},
   "source": [
    "## Instructions\n",
    "Follow along with the teaching material in the lesson. Throughout the tutorial sections labeled as \"Tasks\" are interspersed and indicated with the icon: ![Task](http://icons.iconarchive.com/icons/sbstnblnd/plateau/16/Apps-gnome-info-icon.png). You should follow the instructions provided in these sections by performing them in the practice notebook.  When the tutorial is completed you can turn in the final practice notebook. For each task, use the cell below it to write and test your code.  You may add additional cells for any task as needed or desired. "
   ]
  },
  {
   "cell_type": "markdown",
   "metadata": {},
   "source": [
    "## Task 1a: Setup\n",
    "\n",
    "In the practice notebook, import the following packages:\n",
    "+ `numpy` as `np`"
   ]
  },
  {
   "cell_type": "code",
   "execution_count": 1,
   "metadata": {},
   "outputs": [],
   "source": [
    "import numpy  as np"
   ]
  },
  {
   "cell_type": "markdown",
   "metadata": {},
   "source": [
    "## Task 2a: Indexing by Subsetting and Slicing\n",
    "\n",
    "In the practice notebook perform the following:\n",
    "\n",
    "1. Create (or re-use) 3 arrays, each containing three dimensions.\n",
    "2. Slice each of these arrays so that:\n",
    "    + One element / number is returned.\n",
    "    + One dimension is returned.\n",
    "    + A subset of a dimension is returned.\n",
    "3. What is the difference between `[x:]` and `[x, ...]`? (hint, try each on high-dimension arrays).\n",
    "    \n",
    "*Exactly what you choose to return is not imporant at this point, the goal of this task is to train you so that if you are given an n-dimension NumPy array, you can write an index or slice that returns a subset of desired positions.*"
   ]
  },
  {
   "cell_type": "code",
   "execution_count": 12,
   "metadata": {},
   "outputs": [
    {
     "name": "stdout",
     "output_type": "stream",
     "text": [
      "[[[0.97328334 0.09348213 0.12803227 0.17027124 0.61346689 0.09723979]\n",
      "  [0.42025495 0.79576491 0.6695151  0.71194348 0.1592514  0.18445731]\n",
      "  [0.23102068 0.50814005 0.00574132 0.76651059 0.06402487 0.49497463]\n",
      "  [0.78413886 0.79901538 0.29765005 0.26698672 0.63125529 0.99110153]]\n",
      "\n",
      " [[0.09383973 0.61356441 0.63304083 0.13318977 0.55409156 0.66111798]\n",
      "  [0.19292501 0.22299604 0.25452035 0.20725292 0.90765694 0.43460635]\n",
      "  [0.78957833 0.16956271 0.34589945 0.19576618 0.14256432 0.6759094 ]\n",
      "  [0.83668252 0.74882409 0.73731022 0.81109176 0.85138484 0.30427971]]]\n",
      "[[[6.57861982e-01 5.60744351e-02 1.84114713e-01 2.47575081e-01\n",
      "   7.74842786e-01 9.48824800e-01 2.85411179e-01 7.62038997e-01\n",
      "   4.77185107e-01]\n",
      "  [2.92126130e-01 2.52625374e-01 4.27255092e-01 3.66120313e-01\n",
      "   5.05479840e-01 4.34947817e-01 1.92551511e-01 8.73318641e-01\n",
      "   3.03085532e-01]\n",
      "  [5.62418406e-01 4.11666634e-01 2.09928566e-02 2.68883906e-03\n",
      "   9.04071877e-01 3.12317122e-01 4.10662584e-01 2.68529227e-01\n",
      "   8.61384238e-02]\n",
      "  [7.57517362e-01 5.04158216e-02 1.34826412e-01 5.70403042e-01\n",
      "   8.96773833e-01 8.28559473e-01 4.38101765e-01 5.70512915e-01\n",
      "   9.37789096e-01]\n",
      "  [1.42754629e-01 4.72225463e-01 5.39109014e-01 4.91313969e-01\n",
      "   3.18599168e-01 8.06195613e-01 3.63544198e-01 2.44913158e-01\n",
      "   1.14907668e-01]\n",
      "  [6.18418096e-03 4.36575578e-01 3.71770068e-01 3.48807978e-01\n",
      "   5.97900828e-01 2.62037583e-01 8.63846963e-01 8.90608709e-01\n",
      "   5.52635919e-01]\n",
      "  [5.99604753e-01 2.92086529e-02 8.80445861e-02 1.92654307e-03\n",
      "   2.73670031e-01 7.41189413e-01 5.09149626e-01 7.91077183e-02\n",
      "   7.30168096e-01]\n",
      "  [1.90754865e-01 7.35573789e-01 9.38178927e-01 2.32836193e-01\n",
      "   6.93048172e-01 2.84112995e-02 7.21260736e-01 5.85679464e-01\n",
      "   8.66324517e-01]]\n",
      "\n",
      " [[3.18187186e-01 1.14442702e-01 2.68064699e-01 5.85437810e-01\n",
      "   4.18972375e-01 8.62966547e-01 9.44340967e-01 9.61950887e-01\n",
      "   2.24030618e-01]\n",
      "  [1.35806980e-01 1.35672786e-01 9.84586766e-01 3.22343708e-01\n",
      "   3.17858767e-01 3.97882695e-02 7.66620381e-02 9.52238117e-01\n",
      "   1.77998569e-01]\n",
      "  [4.50029285e-01 1.48201170e-01 9.04488123e-01 2.89540434e-01\n",
      "   9.63482620e-01 5.18626038e-02 3.71048094e-01 5.55959046e-01\n",
      "   3.52335185e-01]\n",
      "  [8.76769924e-01 8.20413598e-01 6.58922738e-01 8.35697541e-01\n",
      "   9.84778551e-01 5.99655184e-01 7.23183688e-01 1.80045987e-02\n",
      "   3.42920779e-01]\n",
      "  [9.70455898e-01 6.53890318e-01 8.95338160e-01 1.56279692e-01\n",
      "   4.49143671e-01 6.64438132e-01 9.63227846e-04 5.16619152e-01\n",
      "   9.36504009e-02]\n",
      "  [4.74484803e-01 7.16411595e-01 2.87057795e-01 8.93876414e-01\n",
      "   7.08708200e-01 7.15292527e-01 8.78161733e-01 4.84621988e-01\n",
      "   8.99683142e-01]\n",
      "  [5.38532150e-02 4.97658771e-02 2.59832589e-02 6.75075949e-01\n",
      "   9.93479838e-01 5.18881366e-01 9.75220185e-01 2.13472581e-01\n",
      "   3.92912856e-01]\n",
      "  [6.74003718e-01 8.53888140e-01 8.45366005e-01 8.32645806e-01\n",
      "   2.87466707e-01 6.40926574e-01 4.43534279e-01 1.33867783e-01\n",
      "   4.00379226e-01]]\n",
      "\n",
      " [[8.15922256e-01 7.08618720e-02 7.48677910e-01 3.95479662e-02\n",
      "   1.00083257e-01 8.91347258e-01 7.03242691e-02 1.05484156e-01\n",
      "   5.15931855e-01]\n",
      "  [5.32071127e-01 5.85373689e-03 8.22876816e-01 7.05725198e-01\n",
      "   3.04558296e-01 9.19348471e-01 9.46318851e-01 1.29313128e-01\n",
      "   9.45838130e-02]\n",
      "  [2.76957841e-01 4.60758724e-01 9.20869747e-02 6.52781193e-01\n",
      "   1.49679809e-01 8.96193095e-01 6.17271617e-01 8.97505630e-01\n",
      "   2.89307082e-01]\n",
      "  [4.99486856e-01 7.08701202e-01 6.97071135e-01 6.79556421e-01\n",
      "   4.85721434e-01 3.43428016e-01 1.78638977e-01 8.19504565e-01\n",
      "   4.45398480e-01]\n",
      "  [8.99197622e-01 1.47553605e-02 8.36013553e-01 2.40886720e-01\n",
      "   4.49142962e-02 4.19235105e-01 9.02530844e-01 9.22054327e-01\n",
      "   4.90234044e-01]\n",
      "  [2.04099448e-01 8.07989838e-01 1.92179517e-02 1.96232930e-01\n",
      "   3.58999574e-01 8.05221717e-01 2.86288116e-01 9.27143679e-01\n",
      "   5.60624960e-01]\n",
      "  [7.17126049e-01 7.99994740e-01 9.12933644e-01 6.01731091e-01\n",
      "   7.75186114e-02 1.17564089e-01 4.06292710e-01 4.58283536e-01\n",
      "   2.62927472e-01]\n",
      "  [1.23251933e-02 5.98039487e-01 9.64201298e-02 4.07682881e-01\n",
      "   8.82364761e-01 5.98654669e-01 2.76905078e-01 3.92363007e-01\n",
      "   2.15941009e-01]]\n",
      "\n",
      " [[4.37662788e-01 9.14930463e-01 8.76133108e-01 1.56905236e-01\n",
      "   4.90076535e-01 5.97185984e-01 6.69995009e-01 8.75607584e-02\n",
      "   7.22005372e-01]\n",
      "  [3.31393267e-01 4.51693232e-01 5.57163577e-02 4.74933373e-01\n",
      "   7.90349176e-02 6.81306563e-02 3.49972935e-01 8.50888119e-01\n",
      "   9.53691813e-01]\n",
      "  [7.18173660e-01 3.50859567e-01 9.03089892e-01 7.37630727e-01\n",
      "   9.04755881e-01 7.30285099e-02 9.27203864e-01 5.95457502e-01\n",
      "   5.54854675e-01]\n",
      "  [8.08777278e-02 8.36833388e-01 1.59851119e-01 5.38733493e-01\n",
      "   1.51807985e-01 1.33539003e-01 8.33958393e-01 1.27033804e-01\n",
      "   8.81255991e-01]\n",
      "  [5.20578677e-01 8.39146196e-01 7.47964194e-01 9.92251947e-01\n",
      "   5.32888518e-01 8.81442895e-01 5.62402541e-01 4.67788207e-01\n",
      "   2.76748602e-01]\n",
      "  [1.56073315e-01 8.05874877e-01 4.68195960e-01 4.12900210e-01\n",
      "   1.11414055e-01 2.98251844e-01 9.13853213e-02 8.00326846e-01\n",
      "   6.10807345e-01]\n",
      "  [5.74793353e-01 7.38570757e-01 7.92257240e-02 8.06582257e-01\n",
      "   3.13549846e-01 5.54233302e-02 7.35161775e-01 9.36744661e-01\n",
      "   2.88361165e-01]\n",
      "  [8.31064895e-01 3.25812473e-01 8.47236462e-01 5.03261778e-01\n",
      "   6.58852833e-01 8.11702867e-01 1.51582435e-01 8.67339431e-02\n",
      "   4.50146750e-01]]\n",
      "\n",
      " [[4.36943434e-01 2.92809547e-01 7.00092054e-01 4.00245040e-01\n",
      "   2.96851194e-02 8.21151519e-01 8.06106339e-01 8.79810177e-01\n",
      "   1.27523842e-01]\n",
      "  [5.94002870e-01 6.72109283e-01 6.03646649e-01 9.38649925e-01\n",
      "   5.14908824e-01 7.19245273e-02 4.25929106e-01 9.46483872e-01\n",
      "   4.24982470e-01]\n",
      "  [6.52499845e-01 4.13245871e-01 1.74657506e-01 8.90261339e-01\n",
      "   2.58735502e-01 3.39437951e-01 6.11451735e-01 2.65426712e-01\n",
      "   1.40619861e-01]\n",
      "  [5.68748556e-01 6.99064405e-01 7.36225583e-01 5.50242629e-01\n",
      "   3.51330489e-01 6.06849153e-01 8.27154260e-02 4.96005709e-01\n",
      "   9.31799133e-01]\n",
      "  [4.44629102e-02 7.32182938e-01 9.19139066e-01 5.30250658e-01\n",
      "   8.52850165e-01 6.88083800e-01 8.62779551e-01 9.27904799e-01\n",
      "   6.70120945e-01]\n",
      "  [1.78104318e-01 5.88026623e-01 7.37661786e-01 4.94484817e-01\n",
      "   7.02127930e-01 7.44903036e-01 5.22782485e-01 7.88678970e-01\n",
      "   6.31858997e-01]\n",
      "  [8.21891467e-01 8.83076542e-01 3.95532187e-01 4.15066505e-01\n",
      "   1.09547484e-01 9.47028621e-01 5.60440996e-01 2.95375178e-01\n",
      "   7.91641869e-01]\n",
      "  [9.38985206e-01 7.77739195e-01 6.95319338e-02 5.06643732e-01\n",
      "   3.10092559e-02 4.83428438e-01 8.36433569e-01 9.80934438e-01\n",
      "   7.96115355e-01]]\n",
      "\n",
      " [[2.44641991e-01 8.81290480e-01 8.32052853e-01 4.79420067e-01\n",
      "   2.77192618e-01 6.74784751e-01 2.68982067e-01 1.38268408e-01\n",
      "   3.36693408e-01]\n",
      "  [1.55010302e-01 6.37747703e-01 8.44886846e-01 8.66335669e-02\n",
      "   2.74398902e-01 7.73006853e-01 6.99777310e-01 5.99808241e-01\n",
      "   8.84889565e-01]\n",
      "  [4.07113269e-01 5.01194480e-02 3.74732607e-01 4.10187065e-02\n",
      "   5.75366752e-01 6.21002350e-02 1.25524025e-01 9.59985896e-01\n",
      "   9.07235029e-01]\n",
      "  [2.75972966e-01 5.81167109e-01 1.97789287e-01 1.08018787e-02\n",
      "   2.20066689e-01 7.45313770e-01 3.73600798e-01 2.37717433e-01\n",
      "   4.64986667e-01]\n",
      "  [1.62965158e-01 5.02393674e-01 1.54894914e-01 8.85739923e-01\n",
      "   5.81949152e-01 4.72513783e-01 7.08689289e-01 5.17625837e-01\n",
      "   8.87544639e-01]\n",
      "  [6.63778943e-01 3.73263920e-01 8.38910988e-01 5.17481686e-01\n",
      "   7.73127139e-01 1.65310985e-01 6.05720659e-01 5.49262036e-01\n",
      "   5.40802503e-01]\n",
      "  [6.43165830e-01 2.44816385e-01 2.90005719e-01 8.25124714e-02\n",
      "   1.81693389e-01 2.30092525e-02 8.24920031e-01 5.51289708e-01\n",
      "   4.33495353e-01]\n",
      "  [8.59064549e-02 4.70518329e-01 6.50859307e-01 4.30585320e-02\n",
      "   9.98847039e-01 4.89389784e-01 2.28696485e-01 9.12800430e-01\n",
      "   7.84518469e-01]]\n",
      "\n",
      " [[9.90766587e-01 6.01704928e-01 7.41037614e-01 3.89717980e-01\n",
      "   4.73542645e-01 2.96604560e-01 5.44462943e-01 6.70291291e-01\n",
      "   8.74789565e-01]\n",
      "  [7.69218575e-01 7.80524014e-01 1.29588119e-01 5.00118930e-01\n",
      "   6.18568300e-01 8.98458219e-02 2.43772385e-03 6.92807724e-01\n",
      "   6.08452976e-01]\n",
      "  [9.59898957e-01 7.42466857e-01 1.75258645e-01 3.67746310e-01\n",
      "   9.24687669e-01 5.99434933e-01 4.50560127e-01 8.04226102e-01\n",
      "   2.50586454e-02]\n",
      "  [1.93777060e-01 5.13819249e-01 3.77608229e-01 6.74060045e-01\n",
      "   7.85946223e-02 2.47001650e-01 7.55300192e-01 8.01429181e-01\n",
      "   5.85479936e-02]\n",
      "  [5.24938562e-01 2.04686303e-01 9.37616889e-01 2.31094998e-01\n",
      "   9.43176547e-02 1.28620859e-01 3.57027707e-01 4.91612757e-01\n",
      "   9.61827330e-01]\n",
      "  [9.19229406e-01 3.53249977e-01 3.72517759e-01 3.72627430e-01\n",
      "   3.40681936e-01 5.59548328e-01 1.09189346e-01 4.23193695e-01\n",
      "   8.99898434e-01]\n",
      "  [5.07195539e-01 5.16064181e-01 2.49854920e-02 9.20299286e-01\n",
      "   3.64321736e-01 8.28964335e-01 4.57905922e-01 1.51009549e-01\n",
      "   7.62727415e-01]\n",
      "  [3.83609088e-01 3.81417273e-01 3.49294231e-02 1.90467381e-01\n",
      "   5.81655964e-01 1.18805269e-01 9.78523156e-02 3.78163225e-01\n",
      "   3.54069940e-01]]]\n",
      "[[[0.64115602 0.06945429 0.17456406 0.70465721 0.69826379 0.18864192\n",
      "   0.69901249]\n",
      "  [0.71455921 0.2419618  0.72941856 0.33550257 0.25917667 0.98578137\n",
      "   0.1139716 ]\n",
      "  [0.81484007 0.31516924 0.39923802 0.3207694  0.85223501 0.42148416\n",
      "   0.59729661]\n",
      "  [0.68012487 0.97163113 0.79233859 0.11431794 0.417349   0.0474953\n",
      "   0.93107282]\n",
      "  [0.5488247  0.1078446  0.4703971  0.09901422 0.01150899 0.18865534\n",
      "   0.08628549]]\n",
      "\n",
      " [[0.87877344 0.20573526 0.05421615 0.46920923 0.73247499 0.05652803\n",
      "   0.45978387]\n",
      "  [0.91766201 0.55851498 0.45007897 0.81134228 0.83850779 0.3589528\n",
      "   0.75355178]\n",
      "  [0.23137306 0.52231432 0.92468934 0.18066526 0.69260709 0.92640641\n",
      "   0.38589062]\n",
      "  [0.64943809 0.88559405 0.20990941 0.65241833 0.41468546 0.44572605\n",
      "   0.93832724]\n",
      "  [0.84377734 0.1915893  0.07663825 0.87580062 0.18380009 0.68066264\n",
      "   0.807111  ]]\n",
      "\n",
      " [[0.46425704 0.90034986 0.44636153 0.52058767 0.50092241 0.22334412\n",
      "   0.9369132 ]\n",
      "  [0.08079068 0.33784033 0.62242922 0.49125362 0.15632036 0.05751632\n",
      "   0.38187826]\n",
      "  [0.01656935 0.33112457 0.2474569  0.19524629 0.09081119 0.34257611\n",
      "   0.28902549]\n",
      "  [0.29891134 0.562632   0.58767858 0.41693651 0.43803015 0.54598008\n",
      "   0.50911612]\n",
      "  [0.58239363 0.00910703 0.01803934 0.66558928 0.15873544 0.76399687\n",
      "   0.6853214 ]]]\n"
     ]
    }
   ],
   "source": [
    "# create three arrays each with three dimensions\n",
    "array1 = np.random.random((2, 4, 6))\n",
    "array2 = np.random.random((7, 8, 9))\n",
    "array3 = np.random.random((3, 5, 7))\n",
    "\n",
    "# print arrays\n",
    "print(array1)\n",
    "print(array2)\n",
    "print(array3)"
   ]
  },
  {
   "cell_type": "code",
   "execution_count": 9,
   "metadata": {},
   "outputs": [
    {
     "data": {
      "text/plain": [
       "0.6343270328616928"
      ]
     },
     "execution_count": 9,
     "metadata": {},
     "output_type": "execute_result"
    }
   ],
   "source": [
    "# slice array1 so that first column, first row, first element is returned\n",
    "array1[1, 1, 1] # did this work? I can find the number it printed??"
   ]
  },
  {
   "cell_type": "code",
   "execution_count": 10,
   "metadata": {},
   "outputs": [
    {
     "data": {
      "text/plain": [
       "array([[[0.70506799, 0.28214338, 0.66053263, 0.74205481, 0.2079891 ,\n",
       "         0.21547639, 0.89952677, 0.04001647, 0.60292241],\n",
       "        [0.66889548, 0.82804429, 0.85076284, 0.1965238 , 0.34239499,\n",
       "         0.59929916, 0.89151088, 0.68777533, 0.72087102],\n",
       "        [0.45450038, 0.34656903, 0.14050114, 0.03047969, 0.22463572,\n",
       "         0.48604076, 0.72314174, 0.40768742, 0.14694085],\n",
       "        [0.56878294, 0.53592616, 0.79715206, 0.80886075, 0.38871688,\n",
       "         0.10543806, 0.25374899, 0.86680647, 0.14993234],\n",
       "        [0.1071816 , 0.101647  , 0.59089049, 0.49170797, 0.61758896,\n",
       "         0.24000171, 0.62773825, 0.66540703, 0.97108893],\n",
       "        [0.71670639, 0.05459403, 0.09998819, 0.40573088, 0.85512276,\n",
       "         0.78003616, 0.27677174, 0.66008228, 0.73074951],\n",
       "        [0.02979586, 0.36539259, 0.7240733 , 0.77954762, 0.64793168,\n",
       "         0.38503928, 0.93679948, 0.4439165 , 0.00678572],\n",
       "        [0.23109187, 0.17384994, 0.51712591, 0.74049321, 0.32573926,\n",
       "         0.36914032, 0.51624233, 0.84207997, 0.99388869]],\n",
       "\n",
       "       [[0.98704281, 0.72849462, 0.46506306, 0.19838006, 0.33769655,\n",
       "         0.54144123, 0.41258054, 0.9234788 , 0.30807587],\n",
       "        [0.92669898, 0.77188701, 0.74968817, 0.0344783 , 0.10138872,\n",
       "         0.666415  , 0.50332923, 0.05233189, 0.97025994],\n",
       "        [0.0311786 , 0.36911036, 0.67550493, 0.45277354, 0.37186823,\n",
       "         0.44976661, 0.72119664, 0.01207172, 0.0716691 ],\n",
       "        [0.33811073, 0.65512969, 0.25635158, 0.89227462, 0.28304478,\n",
       "         0.93427918, 0.63411359, 0.31290005, 0.65720909],\n",
       "        [0.09971039, 0.65688612, 0.28990034, 0.26391553, 0.03797959,\n",
       "         0.75666852, 0.97379344, 0.20432577, 0.6373638 ],\n",
       "        [0.94458961, 0.44879866, 0.80136934, 0.56706865, 0.79632394,\n",
       "         0.48408454, 0.19754098, 0.20873185, 0.77176398],\n",
       "        [0.60829383, 0.73838283, 0.20728079, 0.90774637, 0.30884609,\n",
       "         0.34971033, 0.78453818, 0.45851152, 0.59641313],\n",
       "        [0.20858086, 0.5950128 , 0.75232669, 0.20217469, 0.07629123,\n",
       "         0.94176063, 0.15062156, 0.52431361, 0.25925349]],\n",
       "\n",
       "       [[0.59868341, 0.19695929, 0.90057768, 0.31488886, 0.35244337,\n",
       "         0.21412276, 0.37799037, 0.01369294, 0.05539227],\n",
       "        [0.16458786, 0.94889754, 0.96661093, 0.16206567, 0.51488727,\n",
       "         0.73789815, 0.1231076 , 0.99279084, 0.62143111],\n",
       "        [0.62577472, 0.25888129, 0.34883371, 0.75825195, 0.72044173,\n",
       "         0.17310428, 0.21511436, 0.52187866, 0.87810005],\n",
       "        [0.47854969, 0.82445239, 0.09070782, 0.2718126 , 0.79730165,\n",
       "         0.62668119, 0.61010568, 0.17638176, 0.92845885],\n",
       "        [0.62959875, 0.05215589, 0.86425372, 0.66423093, 0.04408701,\n",
       "         0.30867429, 0.16512324, 0.92365167, 0.08580588],\n",
       "        [0.25201346, 0.92234787, 0.14861026, 0.36563389, 0.80152624,\n",
       "         0.3692938 , 0.94125308, 0.57703189, 0.88754206],\n",
       "        [0.33220844, 0.39751915, 0.76396804, 0.85681029, 0.04429004,\n",
       "         0.54678075, 0.92117355, 0.41163316, 0.73085026],\n",
       "        [0.144532  , 0.19050685, 0.85251184, 0.47051201, 0.36965658,\n",
       "         0.33788856, 0.10449386, 0.90660116, 0.14208235]],\n",
       "\n",
       "       [[0.97999688, 0.15727684, 0.17365183, 0.88616864, 0.95527615,\n",
       "         0.32683069, 0.893231  , 0.94751635, 0.94871841],\n",
       "        [0.02048784, 0.75540072, 0.61152508, 0.09186513, 0.36812367,\n",
       "         0.92686983, 0.90893582, 0.5006414 , 0.4313523 ],\n",
       "        [0.03749849, 0.8405112 , 0.37739433, 0.95655534, 0.65228809,\n",
       "         0.47435202, 0.04604275, 0.20776393, 0.99325545],\n",
       "        [0.28585875, 0.84902665, 0.56536505, 0.72003747, 0.93187715,\n",
       "         0.00913693, 0.61725123, 0.15745193, 0.841177  ],\n",
       "        [0.66759914, 0.72350843, 0.64691583, 0.85747036, 0.07910288,\n",
       "         0.29441355, 0.78468073, 0.24392142, 0.25464203],\n",
       "        [0.89101939, 0.88429019, 0.78233784, 0.50706299, 0.50728414,\n",
       "         0.86322932, 0.25194501, 0.16323195, 0.42390742],\n",
       "        [0.21223349, 0.86146713, 0.35723753, 0.19264335, 0.54567089,\n",
       "         0.7717206 , 0.26579999, 0.07630596, 0.29515107],\n",
       "        [0.51454391, 0.0769011 , 0.14659716, 0.88937342, 0.63595874,\n",
       "         0.35674791, 0.39413443, 0.49698309, 0.2946536 ]],\n",
       "\n",
       "       [[0.4330959 , 0.17210147, 0.54227044, 0.68319046, 0.79475359,\n",
       "         0.01025178, 0.59823153, 0.27099461, 0.81191907],\n",
       "        [0.056285  , 0.51125532, 0.53565233, 0.74670455, 0.99748434,\n",
       "         0.86266705, 0.93655031, 0.65284116, 0.54339941],\n",
       "        [0.12426013, 0.02388779, 0.63734706, 0.23313705, 0.03226688,\n",
       "         0.99222483, 0.03092906, 0.95115457, 0.13884935],\n",
       "        [0.71371009, 0.61442677, 0.78034516, 0.0505878 , 0.65573154,\n",
       "         0.51163571, 0.43986367, 0.78918048, 0.65330647],\n",
       "        [0.65754506, 0.40993528, 0.38141354, 0.53152377, 0.00160485,\n",
       "         0.58459935, 0.06512947, 0.52766716, 0.70669785],\n",
       "        [0.08965846, 0.79685981, 0.59963564, 0.14955351, 0.73555148,\n",
       "         0.71620114, 0.61838013, 0.6722457 , 0.6231049 ],\n",
       "        [0.92401933, 0.35545459, 0.07975653, 0.69518579, 0.88660035,\n",
       "         0.30616331, 0.23930145, 0.04255489, 0.18577829],\n",
       "        [0.60093021, 0.37097284, 0.64001556, 0.61943867, 0.87256056,\n",
       "         0.69967536, 0.82530027, 0.2731204 , 0.22704188]]])"
      ]
     },
     "execution_count": 10,
     "metadata": {},
     "output_type": "execute_result"
    }
   ],
   "source": [
    "# slice array2 so that only second dimension is returned\n",
    "array2[2:]"
   ]
  },
  {
   "cell_type": "code",
   "execution_count": 13,
   "metadata": {},
   "outputs": [
    {
     "data": {
      "text/plain": [
       "array([[[0.46425704, 0.90034986, 0.44636153, 0.52058767, 0.50092241,\n",
       "         0.22334412, 0.9369132 ],\n",
       "        [0.08079068, 0.33784033, 0.62242922, 0.49125362, 0.15632036,\n",
       "         0.05751632, 0.38187826],\n",
       "        [0.01656935, 0.33112457, 0.2474569 , 0.19524629, 0.09081119,\n",
       "         0.34257611, 0.28902549],\n",
       "        [0.29891134, 0.562632  , 0.58767858, 0.41693651, 0.43803015,\n",
       "         0.54598008, 0.50911612],\n",
       "        [0.58239363, 0.00910703, 0.01803934, 0.66558928, 0.15873544,\n",
       "         0.76399687, 0.6853214 ]]])"
      ]
     },
     "execution_count": 13,
     "metadata": {},
     "output_type": "execute_result"
    }
   ],
   "source": [
    "# slice array3 so that only xx subset is returned\n",
    "array3[2:3]"
   ]
  },
  {
   "cell_type": "code",
   "execution_count": 14,
   "metadata": {},
   "outputs": [
    {
     "data": {
      "text/plain": [
       "array([0.29891134, 0.562632  , 0.58767858, 0.41693651, 0.43803015,\n",
       "       0.54598008, 0.50911612])"
      ]
     },
     "execution_count": 14,
     "metadata": {},
     "output_type": "execute_result"
    }
   ],
   "source": [
    "# what is the difference?\n",
    "array3[2,3]"
   ]
  },
  {
   "cell_type": "markdown",
   "metadata": {},
   "source": [
    "## Task 3a: Boolean Indexing\n",
    "\n",
    "In the practice notebook perform the following:\n",
    "\n",
    "+ Experiment with the following boolean conditionals to generate boolean arrays for indexing:\n",
    "  + Greater than\n",
    "  + Less than\n",
    "  + Equals\n",
    "  + Combine two or more of the above with:\n",
    "      + or `|`\n",
    "      + and `&`\n",
    "\n",
    "You can create arrays or use existing ones"
   ]
  },
  {
   "cell_type": "code",
   "execution_count": 18,
   "metadata": {},
   "outputs": [
    {
     "name": "stdout",
     "output_type": "stream",
     "text": [
      "[[[ True False False False  True False]\n",
      "  [ True  True  True  True False False]\n",
      "  [False  True False  True False  True]\n",
      "  [ True  True False False  True  True]]\n",
      "\n",
      " [[False  True  True False  True  True]\n",
      "  [False False False False  True  True]\n",
      "  [ True False  True False False  True]\n",
      "  [ True  True  True  True  True  True]]]\n"
     ]
    },
    {
     "data": {
      "text/plain": [
       "array([0.97328334, 0.61346689, 0.42025495, 0.79576491, 0.6695151 ,\n",
       "       0.71194348, 0.50814005, 0.76651059, 0.49497463, 0.78413886,\n",
       "       0.79901538, 0.63125529, 0.99110153, 0.61356441, 0.63304083,\n",
       "       0.55409156, 0.66111798, 0.90765694, 0.43460635, 0.78957833,\n",
       "       0.34589945, 0.6759094 , 0.83668252, 0.74882409, 0.73731022,\n",
       "       0.81109176, 0.85138484, 0.30427971])"
      ]
     },
     "execution_count": 18,
     "metadata": {},
     "output_type": "execute_result"
    }
   ],
   "source": [
    "# print boolean values that answer the test array1 value greater than 0.3?\n",
    "print(array1 > 0.3)\n",
    "# return subset of array1 where array1 > 0.3 is True\n",
    "array1[array1 > 0.3]"
   ]
  },
  {
   "cell_type": "code",
   "execution_count": 19,
   "metadata": {},
   "outputs": [
    {
     "name": "stdout",
     "output_type": "stream",
     "text": [
      "[[[False  True  True  True False False  True False  True]\n",
      "  [ True  True  True  True  True  True  True False  True]\n",
      "  [ True  True  True  True False  True  True  True  True]\n",
      "  [False  True  True  True False False  True  True False]\n",
      "  [ True  True  True  True  True False  True  True  True]\n",
      "  [ True  True  True  True  True  True False False  True]\n",
      "  [ True  True  True  True  True False  True  True False]\n",
      "  [ True False False  True False  True False  True False]]\n",
      "\n",
      " [[ True  True  True  True  True False False False  True]\n",
      "  [ True  True False  True  True  True  True False  True]\n",
      "  [ True  True False  True False  True  True  True  True]\n",
      "  [False False False False False  True False  True  True]\n",
      "  [False False False  True  True False  True  True  True]\n",
      "  [ True False  True False False False False  True False]\n",
      "  [ True  True  True False False  True False  True  True]\n",
      "  [False False False False  True False  True  True  True]]\n",
      "\n",
      " [[False  True False  True  True False  True  True  True]\n",
      "  [ True  True False False  True False False  True  True]\n",
      "  [ True  True  True False  True False False False  True]\n",
      "  [ True False False False  True  True  True False  True]\n",
      "  [False  True False  True  True  True False False  True]\n",
      "  [ True False  True  True  True False  True False  True]\n",
      "  [False False False False  True  True  True  True  True]\n",
      "  [ True  True  True  True False  True  True  True  True]]\n",
      "\n",
      " [[ True False False  True  True  True False  True False]\n",
      "  [ True  True  True  True  True  True  True False False]\n",
      "  [False  True False False False  True False  True  True]\n",
      "  [ True False  True  True  True  True False  True False]\n",
      "  [ True False False False  True False  True  True  True]\n",
      "  [ True False  True  True  True  True  True False False]\n",
      "  [ True False  True False  True  True False False  True]\n",
      "  [False  True False  True False False  True  True  True]]\n",
      "\n",
      " [[ True  True False  True  True False False False  True]\n",
      "  [ True False False False  True  True  True False  True]\n",
      "  [False  True  True False  True  True False  True  True]\n",
      "  [ True False False  True  True False  True  True False]\n",
      "  [ True False False  True False False False False False]\n",
      "  [ True  True False  True False False  True False False]\n",
      "  [False False  True  True  True False  True  True False]\n",
      "  [False False  True  True  True  True False False False]]\n",
      "\n",
      " [[ True False False  True  True False  True  True  True]\n",
      "  [ True False False  True  True False False  True False]\n",
      "  [ True  True  True  True  True  True  True False False]\n",
      "  [ True  True  True  True  True False  True  True  True]\n",
      "  [ True  True  True False  True  True False  True False]\n",
      "  [False  True False  True False  True False  True  True]\n",
      "  [False  True  True  True  True  True False  True  True]\n",
      "  [ True  True False  True False  True  True False False]]\n",
      "\n",
      " [[False False False  True  True  True  True False False]\n",
      "  [False False  True  True False  True  True False False]\n",
      "  [False False  True  True False  True  True False  True]\n",
      "  [ True  True  True False  True  True False False  True]\n",
      "  [ True  True False  True  True  True  True  True False]\n",
      "  [False  True  True  True  True  True  True  True False]\n",
      "  [ True  True  True False  True False  True  True False]\n",
      "  [ True  True  True  True  True  True  True  True  True]]]\n"
     ]
    },
    {
     "data": {
      "text/plain": [
       "array([0.05607444, 0.18411471, 0.24757508, 0.28541118, 0.47718511,\n",
       "       0.29212613, 0.25262537, 0.42725509, 0.36612031, 0.50547984,\n",
       "       0.43494782, 0.19255151, 0.30308553, 0.56241841, 0.41166663,\n",
       "       0.02099286, 0.00268884, 0.31231712, 0.41066258, 0.26852923,\n",
       "       0.08613842, 0.05041582, 0.13482641, 0.57040304, 0.43810177,\n",
       "       0.57051291, 0.14275463, 0.47222546, 0.53910901, 0.49131397,\n",
       "       0.31859917, 0.3635442 , 0.24491316, 0.11490767, 0.00618418,\n",
       "       0.43657558, 0.37177007, 0.34880798, 0.59790083, 0.26203758,\n",
       "       0.55263592, 0.59960475, 0.02920865, 0.08804459, 0.00192654,\n",
       "       0.27367003, 0.50914963, 0.07910772, 0.19075486, 0.23283619,\n",
       "       0.0284113 , 0.58567946, 0.31818719, 0.1144427 , 0.2680647 ,\n",
       "       0.58543781, 0.41897238, 0.22403062, 0.13580698, 0.13567279,\n",
       "       0.32234371, 0.31785877, 0.03978827, 0.07666204, 0.17799857,\n",
       "       0.45002928, 0.14820117, 0.28954043, 0.0518626 , 0.37104809,\n",
       "       0.55595905, 0.35233519, 0.59965518, 0.0180046 , 0.34292078,\n",
       "       0.15627969, 0.44914367, 0.00096323, 0.51661915, 0.0936504 ,\n",
       "       0.4744848 , 0.2870578 , 0.48462199, 0.05385321, 0.04976588,\n",
       "       0.02598326, 0.51888137, 0.21347258, 0.39291286, 0.28746671,\n",
       "       0.44353428, 0.13386778, 0.40037923, 0.07086187, 0.03954797,\n",
       "       0.10008326, 0.07032427, 0.10548416, 0.51593186, 0.53207113,\n",
       "       0.00585374, 0.3045583 , 0.12931313, 0.09458381, 0.27695784,\n",
       "       0.46075872, 0.09208697, 0.14967981, 0.28930708, 0.49948686,\n",
       "       0.48572143, 0.34342802, 0.17863898, 0.44539848, 0.01475536,\n",
       "       0.24088672, 0.0449143 , 0.41923511, 0.49023404, 0.20409945,\n",
       "       0.01921795, 0.19623293, 0.35899957, 0.28628812, 0.56062496,\n",
       "       0.07751861, 0.11756409, 0.40629271, 0.45828354, 0.26292747,\n",
       "       0.01232519, 0.59803949, 0.09642013, 0.40768288, 0.59865467,\n",
       "       0.27690508, 0.39236301, 0.21594101, 0.43766279, 0.15690524,\n",
       "       0.49007653, 0.59718598, 0.08756076, 0.33139327, 0.45169323,\n",
       "       0.05571636, 0.47493337, 0.07903492, 0.06813066, 0.34997294,\n",
       "       0.35085957, 0.07302851, 0.5954575 , 0.55485468, 0.08087773,\n",
       "       0.15985112, 0.53873349, 0.15180799, 0.133539  , 0.1270338 ,\n",
       "       0.52057868, 0.53288852, 0.56240254, 0.46778821, 0.2767486 ,\n",
       "       0.15607332, 0.46819596, 0.41290021, 0.11141406, 0.29825184,\n",
       "       0.09138532, 0.57479335, 0.07922572, 0.31354985, 0.05542333,\n",
       "       0.28836117, 0.32581247, 0.50326178, 0.15158244, 0.08673394,\n",
       "       0.45014675, 0.43694343, 0.29280955, 0.40024504, 0.02968512,\n",
       "       0.12752384, 0.59400287, 0.51490882, 0.07192453, 0.42592911,\n",
       "       0.42498247, 0.41324587, 0.17465751, 0.2587355 , 0.33943795,\n",
       "       0.26542671, 0.14061986, 0.56874856, 0.55024263, 0.35133049,\n",
       "       0.08271543, 0.49600571, 0.04446291, 0.53025066, 0.17810432,\n",
       "       0.58802662, 0.49448482, 0.52278248, 0.39553219, 0.41506651,\n",
       "       0.10954748, 0.560441  , 0.29537518, 0.06953193, 0.50664373,\n",
       "       0.03100926, 0.48342844, 0.24464199, 0.47942007, 0.27719262,\n",
       "       0.26898207, 0.13826841, 0.33669341, 0.1550103 , 0.08663357,\n",
       "       0.2743989 , 0.59980824, 0.40711327, 0.05011945, 0.37473261,\n",
       "       0.04101871, 0.57536675, 0.06210023, 0.12552403, 0.27597297,\n",
       "       0.58116711, 0.19778929, 0.01080188, 0.22006669, 0.3736008 ,\n",
       "       0.23771743, 0.46498667, 0.16296516, 0.50239367, 0.15489491,\n",
       "       0.58194915, 0.47251378, 0.51762584, 0.37326392, 0.51748169,\n",
       "       0.16531099, 0.54926204, 0.5408025 , 0.24481638, 0.29000572,\n",
       "       0.08251247, 0.18169339, 0.02300925, 0.55128971, 0.43349535,\n",
       "       0.08590645, 0.47051833, 0.04305853, 0.48938978, 0.22869648,\n",
       "       0.38971798, 0.47354265, 0.29660456, 0.54446294, 0.12958812,\n",
       "       0.50011893, 0.08984582, 0.00243772, 0.17525864, 0.36774631,\n",
       "       0.59943493, 0.45056013, 0.02505865, 0.19377706, 0.51381925,\n",
       "       0.37760823, 0.07859462, 0.24700165, 0.05854799, 0.52493856,\n",
       "       0.2046863 , 0.231095  , 0.09431765, 0.12862086, 0.35702771,\n",
       "       0.49161276, 0.35324998, 0.37251776, 0.37262743, 0.34068194,\n",
       "       0.55954833, 0.10918935, 0.42319369, 0.50719554, 0.51606418,\n",
       "       0.02498549, 0.36432174, 0.45790592, 0.15100955, 0.38360909,\n",
       "       0.38141727, 0.03492942, 0.19046738, 0.58165596, 0.11880527,\n",
       "       0.09785232, 0.37816322, 0.35406994])"
      ]
     },
     "execution_count": 19,
     "metadata": {},
     "output_type": "execute_result"
    }
   ],
   "source": [
    "# print boolean values that answer the test array2 value less than 0.6?\n",
    "print(array2 < 0.6)\n",
    "# return subset of array2 where array2 < 0.6 is True\n",
    "array2[array2 < 0.6]"
   ]
  },
  {
   "cell_type": "code",
   "execution_count": 20,
   "metadata": {
    "scrolled": true
   },
   "outputs": [
    {
     "name": "stdout",
     "output_type": "stream",
     "text": [
      "[[[False False False False False False False]\n",
      "  [False False False False False False False]\n",
      "  [False False False False False False False]\n",
      "  [False False False False False False False]\n",
      "  [False False False False False False False]]\n",
      "\n",
      " [[False False False False False False False]\n",
      "  [False False False False False False False]\n",
      "  [False False False False False False False]\n",
      "  [False False False False False False False]\n",
      "  [False False False False False False False]]\n",
      "\n",
      " [[False False False False False False False]\n",
      "  [False False False False False False False]\n",
      "  [False False False False False False False]\n",
      "  [False False False False False False False]\n",
      "  [False False False False False False False]]]\n"
     ]
    },
    {
     "data": {
      "text/plain": [
       "array([], dtype=float64)"
      ]
     },
     "execution_count": 20,
     "metadata": {},
     "output_type": "execute_result"
    }
   ],
   "source": [
    "# print boolean values that answer the test array3 value equal to 0.5\n",
    "print(array3 == 0.5)\n",
    "# return subset of array2 where array3 == 0.5 is True\n",
    "# in this case, none are equal to 0.5\n",
    "array3[array3 == 0.5]"
   ]
  },
  {
   "cell_type": "code",
   "execution_count": 27,
   "metadata": {},
   "outputs": [
    {
     "name": "stdout",
     "output_type": "stream",
     "text": [
      "[[[False False False False  True False]\n",
      "  [ True  True  True  True False False]\n",
      "  [ True  True False  True False  True]\n",
      "  [ True  True  True  True  True False]]\n",
      "\n",
      " [[False  True  True False  True  True]\n",
      "  [False  True  True  True False  True]\n",
      "  [ True False  True False False  True]\n",
      "  [False  True  True False False  True]]]\n"
     ]
    },
    {
     "data": {
      "text/plain": [
       "array([0.61346689, 0.42025495, 0.79576491, 0.6695151 , 0.71194348,\n",
       "       0.23102068, 0.50814005, 0.76651059, 0.49497463, 0.78413886,\n",
       "       0.79901538, 0.29765005, 0.26698672, 0.63125529, 0.61356441,\n",
       "       0.63304083, 0.55409156, 0.66111798, 0.22299604, 0.25452035,\n",
       "       0.20725292, 0.43460635, 0.78957833, 0.34589945, 0.6759094 ,\n",
       "       0.74882409, 0.73731022, 0.30427971])"
      ]
     },
     "execution_count": 27,
     "metadata": {},
     "output_type": "execute_result"
    }
   ],
   "source": [
    "# print boolean values that answer the test array1 value greater than 0.3\n",
    "# AND array1 less than 0.8\n",
    "print((array1 > 0.2) & (array1 < 0.8))\n",
    "# print new array of values from array1 that fit both conditions\n",
    "array1[(array1 > 0.2) & (array1 < 0.8)]"
   ]
  },
  {
   "cell_type": "code",
   "execution_count": 29,
   "metadata": {},
   "outputs": [
    {
     "name": "stdout",
     "output_type": "stream",
     "text": [
      "[[[False  True  True  True False False  True False  True]\n",
      "  [ True  True  True  True False  True  True False  True]\n",
      "  [False  True  True  True False  True  True  True  True]\n",
      "  [False  True  True False False False  True False False]\n",
      "  [ True  True False  True  True False  True  True  True]\n",
      "  [ True  True  True  True False  True False False False]\n",
      "  [False  True  True  True  True False False  True False]\n",
      "  [ True False False  True False  True False False False]]\n",
      "\n",
      " [[ True  True  True False  True False False False  True]\n",
      "  [ True  True False  True  True  True  True False  True]\n",
      "  [ True  True False  True False  True  True False  True]\n",
      "  [False False False False False False False  True  True]\n",
      "  [False False False  True  True False  True False  True]\n",
      "  [ True False  True False False False False  True False]\n",
      "  [ True  True  True False False False False  True  True]\n",
      "  [False False False False  True False  True  True  True]]\n",
      "\n",
      " [[False  True False  True  True False  True  True False]\n",
      "  [False  True False False  True False False  True  True]\n",
      "  [ True  True  True False  True False False False  True]\n",
      "  [ True False False False  True  True  True False  True]\n",
      "  [False  True False  True  True  True False False  True]\n",
      "  [ True False  True  True  True False  True False False]\n",
      "  [False False False False  True  True  True  True  True]\n",
      "  [ True False  True  True False False  True  True  True]]\n",
      "\n",
      " [[ True False False  True  True False False  True False]\n",
      "  [ True  True  True  True  True  True  True False False]\n",
      "  [False  True False False False  True False False False]\n",
      "  [ True False  True False  True  True False  True False]\n",
      "  [False False False False False False False  True  True]\n",
      "  [ True False  True  True  True  True  True False False]\n",
      "  [False False  True False  True  True False False  True]\n",
      "  [False  True False False False False  True  True  True]]\n",
      "\n",
      " [[ True  True False  True  True False False False  True]\n",
      "  [False False False False False  True  True False  True]\n",
      "  [False  True  True False  True  True False  True  True]\n",
      "  [False False False False  True False  True  True False]\n",
      "  [ True False False False False False False False False]\n",
      "  [ True False False  True False False False False False]\n",
      "  [False False  True  True  True False False  True False]\n",
      "  [False False  True False  True  True False False False]]\n",
      "\n",
      " [[ True False False  True  True False  True  True  True]\n",
      "  [ True False False  True  True False False False False]\n",
      "  [ True  True  True  True False  True  True False False]\n",
      "  [ True False  True  True  True False  True  True  True]\n",
      "  [ True False  True False False  True False False False]\n",
      "  [False  True False False False  True False False False]\n",
      "  [False  True  True  True  True  True False False  True]\n",
      "  [ True  True False  True False  True  True False False]]\n",
      "\n",
      " [[False False False  True  True  True False False False]\n",
      "  [False False  True False False  True  True False False]\n",
      "  [False False  True  True False False  True False  True]\n",
      "  [ True False  True False  True  True False False  True]\n",
      "  [False  True False  True  True  True  True  True False]\n",
      "  [False  True  True  True  True False  True  True False]\n",
      "  [False False  True False  True False  True  True False]\n",
      "  [ True  True  True  True False  True  True  True  True]]]\n"
     ]
    },
    {
     "data": {
      "text/plain": [
       "array([0.05607444, 0.18411471, 0.24757508, 0.28541118, 0.47718511,\n",
       "       0.29212613, 0.25262537, 0.42725509, 0.36612031, 0.43494782,\n",
       "       0.19255151, 0.30308553, 0.41166663, 0.02099286, 0.00268884,\n",
       "       0.31231712, 0.41066258, 0.26852923, 0.08613842, 0.05041582,\n",
       "       0.13482641, 0.43810177, 0.14275463, 0.47222546, 0.49131397,\n",
       "       0.31859917, 0.3635442 , 0.24491316, 0.11490767, 0.00618418,\n",
       "       0.43657558, 0.37177007, 0.34880798, 0.26203758, 0.02920865,\n",
       "       0.08804459, 0.00192654, 0.27367003, 0.07910772, 0.19075486,\n",
       "       0.23283619, 0.0284113 , 0.31818719, 0.1144427 , 0.2680647 ,\n",
       "       0.41897238, 0.22403062, 0.13580698, 0.13567279, 0.32234371,\n",
       "       0.31785877, 0.03978827, 0.07666204, 0.17799857, 0.45002928,\n",
       "       0.14820117, 0.28954043, 0.0518626 , 0.37104809, 0.35233519,\n",
       "       0.0180046 , 0.34292078, 0.15627969, 0.44914367, 0.00096323,\n",
       "       0.0936504 , 0.4744848 , 0.2870578 , 0.48462199, 0.05385321,\n",
       "       0.04976588, 0.02598326, 0.21347258, 0.39291286, 0.28746671,\n",
       "       0.44353428, 0.13386778, 0.40037923, 0.07086187, 0.03954797,\n",
       "       0.10008326, 0.07032427, 0.10548416, 0.00585374, 0.3045583 ,\n",
       "       0.12931313, 0.09458381, 0.27695784, 0.46075872, 0.09208697,\n",
       "       0.14967981, 0.28930708, 0.49948686, 0.48572143, 0.34342802,\n",
       "       0.17863898, 0.44539848, 0.01475536, 0.24088672, 0.0449143 ,\n",
       "       0.41923511, 0.49023404, 0.20409945, 0.01921795, 0.19623293,\n",
       "       0.35899957, 0.28628812, 0.07751861, 0.11756409, 0.40629271,\n",
       "       0.45828354, 0.26292747, 0.01232519, 0.09642013, 0.40768288,\n",
       "       0.27690508, 0.39236301, 0.21594101, 0.43766279, 0.15690524,\n",
       "       0.49007653, 0.08756076, 0.33139327, 0.45169323, 0.05571636,\n",
       "       0.47493337, 0.07903492, 0.06813066, 0.34997294, 0.35085957,\n",
       "       0.07302851, 0.08087773, 0.15985112, 0.15180799, 0.133539  ,\n",
       "       0.1270338 , 0.46778821, 0.2767486 , 0.15607332, 0.46819596,\n",
       "       0.41290021, 0.11141406, 0.29825184, 0.09138532, 0.07922572,\n",
       "       0.31354985, 0.05542333, 0.28836117, 0.32581247, 0.15158244,\n",
       "       0.08673394, 0.45014675, 0.43694343, 0.29280955, 0.40024504,\n",
       "       0.02968512, 0.12752384, 0.07192453, 0.42592911, 0.42498247,\n",
       "       0.41324587, 0.17465751, 0.2587355 , 0.33943795, 0.26542671,\n",
       "       0.14061986, 0.35133049, 0.08271543, 0.49600571, 0.04446291,\n",
       "       0.17810432, 0.49448482, 0.39553219, 0.41506651, 0.10954748,\n",
       "       0.29537518, 0.06953193, 0.03100926, 0.48342844, 0.24464199,\n",
       "       0.47942007, 0.27719262, 0.26898207, 0.13826841, 0.33669341,\n",
       "       0.1550103 , 0.08663357, 0.2743989 , 0.40711327, 0.05011945,\n",
       "       0.37473261, 0.04101871, 0.06210023, 0.12552403, 0.27597297,\n",
       "       0.19778929, 0.01080188, 0.22006669, 0.3736008 , 0.23771743,\n",
       "       0.46498667, 0.16296516, 0.15489491, 0.47251378, 0.37326392,\n",
       "       0.16531099, 0.24481638, 0.29000572, 0.08251247, 0.18169339,\n",
       "       0.02300925, 0.43349535, 0.08590645, 0.47051833, 0.04305853,\n",
       "       0.48938978, 0.22869648, 0.38971798, 0.47354265, 0.29660456,\n",
       "       0.12958812, 0.08984582, 0.00243772, 0.17525864, 0.36774631,\n",
       "       0.45056013, 0.02505865, 0.19377706, 0.37760823, 0.07859462,\n",
       "       0.24700165, 0.05854799, 0.2046863 , 0.231095  , 0.09431765,\n",
       "       0.12862086, 0.35702771, 0.49161276, 0.35324998, 0.37251776,\n",
       "       0.37262743, 0.34068194, 0.10918935, 0.42319369, 0.02498549,\n",
       "       0.36432174, 0.45790592, 0.15100955, 0.38360909, 0.38141727,\n",
       "       0.03492942, 0.19046738, 0.11880527, 0.09785232, 0.37816322,\n",
       "       0.35406994])"
      ]
     },
     "execution_count": 29,
     "metadata": {},
     "output_type": "execute_result"
    }
   ],
   "source": [
    "# print boolean values that answer the test\n",
    "# array2 value equal to 0.5 OR less than 0.5\n",
    "print((array2 == 0.5) | (array2 < 0.5))\n",
    "\n",
    "# print new array of values from array2 that fit both conditions\n",
    "array2[(array2 == 0.5) | (array2 < 0.5)]"
   ]
  },
  {
   "cell_type": "markdown",
   "metadata": {},
   "source": [
    "## Task 4a: Getting Help\n",
    "\n",
    "In the practice notebook perform the following:\n",
    "\n",
    "+ In the code cell below, call `help()` on two of the following functions: `np.transpose()`, `np.reshape()`, `np.resize()`, `np.ravel()`, `np.append()`, `np.delete()`, `np.concatenate()`, `np.vstack()`, `np.hstack()`, `np.column_stack()`, `np.vsplit()`, `np.hsplit()` \n",
    "+ Respond to this question: Did you understand the help docuemntation? Could you use the function just by looking at what the help says about it?  "
   ]
  },
  {
   "cell_type": "code",
   "execution_count": 30,
   "metadata": {},
   "outputs": [
    {
     "name": "stdout",
     "output_type": "stream",
     "text": [
      "Help on function transpose in module numpy:\n",
      "\n",
      "transpose(a, axes=None)\n",
      "    Permute the dimensions of an array.\n",
      "    \n",
      "    Parameters\n",
      "    ----------\n",
      "    a : array_like\n",
      "        Input array.\n",
      "    axes : list of ints, optional\n",
      "        By default, reverse the dimensions, otherwise permute the axes\n",
      "        according to the values given.\n",
      "    \n",
      "    Returns\n",
      "    -------\n",
      "    p : ndarray\n",
      "        `a` with its axes permuted.  A view is returned whenever\n",
      "        possible.\n",
      "    \n",
      "    See Also\n",
      "    --------\n",
      "    moveaxis\n",
      "    argsort\n",
      "    \n",
      "    Notes\n",
      "    -----\n",
      "    Use `transpose(a, argsort(axes))` to invert the transposition of tensors\n",
      "    when using the `axes` keyword argument.\n",
      "    \n",
      "    Transposing a 1-D array returns an unchanged view of the original array.\n",
      "    \n",
      "    Examples\n",
      "    --------\n",
      "    >>> x = np.arange(4).reshape((2,2))\n",
      "    >>> x\n",
      "    array([[0, 1],\n",
      "           [2, 3]])\n",
      "    \n",
      "    >>> np.transpose(x)\n",
      "    array([[0, 2],\n",
      "           [1, 3]])\n",
      "    \n",
      "    >>> x = np.ones((1, 2, 3))\n",
      "    >>> np.transpose(x, (1, 0, 2)).shape\n",
      "    (2, 1, 3)\n",
      "\n"
     ]
    }
   ],
   "source": [
    "help(np.transpose)"
   ]
  },
  {
   "cell_type": "code",
   "execution_count": 31,
   "metadata": {},
   "outputs": [
    {
     "name": "stdout",
     "output_type": "stream",
     "text": [
      "Help on function vstack in module numpy:\n",
      "\n",
      "vstack(tup)\n",
      "    Stack arrays in sequence vertically (row wise).\n",
      "    \n",
      "    This is equivalent to concatenation along the first axis after 1-D arrays\n",
      "    of shape `(N,)` have been reshaped to `(1,N)`. Rebuilds arrays divided by\n",
      "    `vsplit`.\n",
      "    \n",
      "    This function makes most sense for arrays with up to 3 dimensions. For\n",
      "    instance, for pixel-data with a height (first axis), width (second axis),\n",
      "    and r/g/b channels (third axis). The functions `concatenate`, `stack` and\n",
      "    `block` provide more general stacking and concatenation operations.\n",
      "    \n",
      "    Parameters\n",
      "    ----------\n",
      "    tup : sequence of ndarrays\n",
      "        The arrays must have the same shape along all but the first axis.\n",
      "        1-D arrays must have the same length.\n",
      "    \n",
      "    Returns\n",
      "    -------\n",
      "    stacked : ndarray\n",
      "        The array formed by stacking the given arrays, will be at least 2-D.\n",
      "    \n",
      "    See Also\n",
      "    --------\n",
      "    stack : Join a sequence of arrays along a new axis.\n",
      "    hstack : Stack arrays in sequence horizontally (column wise).\n",
      "    dstack : Stack arrays in sequence depth wise (along third dimension).\n",
      "    concatenate : Join a sequence of arrays along an existing axis.\n",
      "    vsplit : Split array into a list of multiple sub-arrays vertically.\n",
      "    block : Assemble arrays from blocks.\n",
      "    \n",
      "    Examples\n",
      "    --------\n",
      "    >>> a = np.array([1, 2, 3])\n",
      "    >>> b = np.array([2, 3, 4])\n",
      "    >>> np.vstack((a,b))\n",
      "    array([[1, 2, 3],\n",
      "           [2, 3, 4]])\n",
      "    \n",
      "    >>> a = np.array([[1], [2], [3]])\n",
      "    >>> b = np.array([[2], [3], [4]])\n",
      "    >>> np.vstack((a,b))\n",
      "    array([[1],\n",
      "           [2],\n",
      "           [3],\n",
      "           [2],\n",
      "           [3],\n",
      "           [4]])\n",
      "\n"
     ]
    }
   ],
   "source": [
    "help(np.vstack)"
   ]
  },
  {
   "cell_type": "markdown",
   "metadata": {},
   "source": [
    "I do understand the help doc, I think the examples are the most useful aspect and as long as their are robust examples, I could use the function with only the documentation. I am having trouble with .append"
   ]
  },
  {
   "cell_type": "markdown",
   "metadata": {},
   "source": [
    "## Task 5a: Transposing an Array\n",
    "\n",
    "In the practice notebook perform the following:\n",
    "\n",
    "+ Create a matrix of any size and transpose it."
   ]
  },
  {
   "cell_type": "code",
   "execution_count": 34,
   "metadata": {},
   "outputs": [
    {
     "name": "stdout",
     "output_type": "stream",
     "text": [
      "[[0.21114418 0.3837888  0.31989843 0.78125864]\n",
      " [0.25409005 0.07720371 0.21629241 0.67837409]]\n",
      "[[0.21114418 0.25409005]\n",
      " [0.3837888  0.07720371]\n",
      " [0.31989843 0.21629241]\n",
      " [0.78125864 0.67837409]]\n"
     ]
    }
   ],
   "source": [
    "# create new array of 2 x 4 dim\n",
    "new_a = np.random.random((2,4))\n",
    "# print original array\n",
    "print(new_a)\n",
    "# transpose using T attribute, print\n",
    "print(new_a.T)"
   ]
  },
  {
   "cell_type": "markdown",
   "metadata": {},
   "source": [
    "## Task 5b: Reshaping an Array\n",
    "\n",
    "In the practice notebook peform the following:\n",
    "\n",
    "+ Create a matrix and resize it by adding 2 extra columns\n",
    "+ Create a matrix and resize it by adding 1 extra row\n",
    "+ Create a matrix of 8 x 2 and resize it to 4 x 4"
   ]
  },
  {
   "cell_type": "code",
   "execution_count": 41,
   "metadata": {},
   "outputs": [
    {
     "name": "stdout",
     "output_type": "stream",
     "text": [
      "[[0.21114418 0.3837888  0.31989843 0.78125864 0.25409005 0.07720371]\n",
      " [0.21629241 0.67837409 0.21114418 0.3837888  0.31989843 0.78125864]]\n",
      "[[0.21114418 0.3837888  0.31989843 0.78125864]\n",
      " [0.25409005 0.07720371 0.21629241 0.67837409]\n",
      " [0.21114418 0.3837888  0.31989843 0.78125864]]\n",
      "[[0.24393154 0.63396998 0.76080465 0.57067725]\n",
      " [0.04278502 0.82640134 0.73340559 0.71572967]\n",
      " [0.10726331 0.17627763 0.86227081 0.25350804]\n",
      " [0.61196106 0.95681775 0.81108113 0.23129059]]\n"
     ]
    }
   ],
   "source": [
    "# using new_a, a matrix of 2 x 4\n",
    "# adding 2 additional columns\n",
    "print(np.resize(new_a, (2, 6)))\n",
    "\n",
    "# adding an addtional row\n",
    "print(np.resize(new_a, (3, 4)))\n",
    "\n",
    "# create matrix of 8 x 2\n",
    "new_b = np.random.random((8,2))\n",
    "print(new_b.reshape((4 ,4)))"
   ]
  },
  {
   "cell_type": "markdown",
   "metadata": {},
   "source": [
    "## Task 5c: Appending to an Array\n",
    "\n",
    "In the practice notebook perform the following:\n",
    "\n",
    " + Create a three dimensional array and append another row to the array\n",
    " + Append another colum to the array\n",
    " + Print the final results"
   ]
  },
  {
   "cell_type": "code",
   "execution_count": 101,
   "metadata": {},
   "outputs": [
    {
     "name": "stdout",
     "output_type": "stream",
     "text": [
      "Help on function append in module numpy:\n",
      "\n",
      "append(arr, values, axis=None)\n",
      "    Append values to the end of an array.\n",
      "    \n",
      "    Parameters\n",
      "    ----------\n",
      "    arr : array_like\n",
      "        Values are appended to a copy of this array.\n",
      "    values : array_like\n",
      "        These values are appended to a copy of `arr`.  It must be of the\n",
      "        correct shape (the same shape as `arr`, excluding `axis`).  If\n",
      "        `axis` is not specified, `values` can be any shape and will be\n",
      "        flattened before use.\n",
      "    axis : int, optional\n",
      "        The axis along which `values` are appended.  If `axis` is not\n",
      "        given, both `arr` and `values` are flattened before use.\n",
      "    \n",
      "    Returns\n",
      "    -------\n",
      "    append : ndarray\n",
      "        A copy of `arr` with `values` appended to `axis`.  Note that\n",
      "        `append` does not occur in-place: a new array is allocated and\n",
      "        filled.  If `axis` is None, `out` is a flattened array.\n",
      "    \n",
      "    See Also\n",
      "    --------\n",
      "    insert : Insert elements into an array.\n",
      "    delete : Delete elements from an array.\n",
      "    \n",
      "    Examples\n",
      "    --------\n",
      "    >>> np.append([1, 2, 3], [[4, 5, 6], [7, 8, 9]])\n",
      "    array([1, 2, 3, 4, 5, 6, 7, 8, 9])\n",
      "    \n",
      "    When `axis` is specified, `values` must have the correct shape.\n",
      "    \n",
      "    >>> np.append([[1, 2, 3], [4, 5, 6]], [[7, 8, 9]], axis=0)\n",
      "    array([[1, 2, 3],\n",
      "           [4, 5, 6],\n",
      "           [7, 8, 9]])\n",
      "    >>> np.append([[1, 2, 3], [4, 5, 6]], [7, 8, 9], axis=0)\n",
      "    Traceback (most recent call last):\n",
      "    ...\n",
      "    ValueError: arrays must have same number of dimensions\n",
      "\n"
     ]
    }
   ],
   "source": [
    "help(np.append)"
   ]
  },
  {
   "cell_type": "code",
   "execution_count": 100,
   "metadata": {},
   "outputs": [
    {
     "name": "stdout",
     "output_type": "stream",
     "text": [
      "Original:\n",
      "[[[0. 0. 0. 0.]\n",
      "  [0. 0. 0. 0.]\n",
      "  [0. 0. 0. 0.]]\n",
      "\n",
      " [[0. 0. 0. 0.]\n",
      "  [0. 0. 0. 0.]\n",
      "  [0. 0. 0. 0.]]]\n"
     ]
    },
    {
     "ename": "ValueError",
     "evalue": "all the input arrays must have same number of dimensions",
     "output_type": "error",
     "traceback": [
      "\u001b[1;31m---------------------------------------------------------------------------\u001b[0m",
      "\u001b[1;31mValueError\u001b[0m                                Traceback (most recent call last)",
      "\u001b[1;32m<ipython-input-100-d2d6a6f38580>\u001b[0m in \u001b[0;36m<module>\u001b[1;34m\u001b[0m\n\u001b[0;32m      4\u001b[0m \u001b[0mprint\u001b[0m\u001b[1;33m(\u001b[0m\u001b[0mnew_c\u001b[0m\u001b[1;33m)\u001b[0m\u001b[1;33m\u001b[0m\u001b[1;33m\u001b[0m\u001b[0m\n\u001b[0;32m      5\u001b[0m \u001b[1;31m# append row to array\u001b[0m\u001b[1;33m\u001b[0m\u001b[1;33m\u001b[0m\u001b[1;33m\u001b[0m\u001b[0m\n\u001b[1;32m----> 6\u001b[1;33m \u001b[0mnewer_c\u001b[0m \u001b[1;33m=\u001b[0m \u001b[0mnp\u001b[0m\u001b[1;33m.\u001b[0m\u001b[0mappend\u001b[0m\u001b[1;33m(\u001b[0m\u001b[0mnew_c\u001b[0m\u001b[1;33m,\u001b[0m \u001b[1;33m[\u001b[0m\u001b[1;33m[\u001b[0m\u001b[1;33m[\u001b[0m\u001b[1;36m1\u001b[0m\u001b[1;33m,\u001b[0m \u001b[1;36m2\u001b[0m\u001b[1;33m,\u001b[0m \u001b[1;36m3\u001b[0m\u001b[1;33m,\u001b[0m \u001b[1;36m4\u001b[0m\u001b[1;33m]\u001b[0m\u001b[1;33m]\u001b[0m\u001b[1;33m,\u001b[0m \u001b[1;33m[\u001b[0m\u001b[1;36m1\u001b[0m\u001b[1;33m,\u001b[0m \u001b[1;36m2\u001b[0m\u001b[1;33m,\u001b[0m \u001b[1;36m3\u001b[0m\u001b[1;33m,\u001b[0m \u001b[1;36m4\u001b[0m\u001b[1;33m]\u001b[0m\u001b[1;33m,\u001b[0m \u001b[1;33m[\u001b[0m\u001b[1;33m[\u001b[0m\u001b[1;36m1\u001b[0m\u001b[1;33m,\u001b[0m \u001b[1;36m2\u001b[0m\u001b[1;33m,\u001b[0m \u001b[1;36m3\u001b[0m\u001b[1;33m,\u001b[0m \u001b[1;36m4\u001b[0m\u001b[1;33m]\u001b[0m\u001b[1;33m]\u001b[0m\u001b[1;33m]\u001b[0m\u001b[1;33m,\u001b[0m \u001b[0maxis\u001b[0m\u001b[1;33m=\u001b[0m\u001b[1;36m0\u001b[0m\u001b[1;33m)\u001b[0m\u001b[1;33m\u001b[0m\u001b[1;33m\u001b[0m\u001b[0m\n\u001b[0m\u001b[0;32m      7\u001b[0m \u001b[0mprint\u001b[0m\u001b[1;33m(\u001b[0m\u001b[1;34m\"\\nAppend: \"\u001b[0m\u001b[1;33m)\u001b[0m\u001b[1;33m\u001b[0m\u001b[1;33m\u001b[0m\u001b[0m\n\u001b[0;32m      8\u001b[0m \u001b[0mprint\u001b[0m\u001b[1;33m(\u001b[0m\u001b[0mnewer_c\u001b[0m\u001b[1;33m)\u001b[0m\u001b[1;33m\u001b[0m\u001b[1;33m\u001b[0m\u001b[0m\n",
      "\u001b[1;32m~\\Anaconda3\\lib\\site-packages\\numpy\\lib\\function_base.py\u001b[0m in \u001b[0;36mappend\u001b[1;34m(arr, values, axis)\u001b[0m\n\u001b[0;32m   4692\u001b[0m         \u001b[0mvalues\u001b[0m \u001b[1;33m=\u001b[0m \u001b[0mravel\u001b[0m\u001b[1;33m(\u001b[0m\u001b[0mvalues\u001b[0m\u001b[1;33m)\u001b[0m\u001b[1;33m\u001b[0m\u001b[1;33m\u001b[0m\u001b[0m\n\u001b[0;32m   4693\u001b[0m         \u001b[0maxis\u001b[0m \u001b[1;33m=\u001b[0m \u001b[0marr\u001b[0m\u001b[1;33m.\u001b[0m\u001b[0mndim\u001b[0m\u001b[1;33m-\u001b[0m\u001b[1;36m1\u001b[0m\u001b[1;33m\u001b[0m\u001b[1;33m\u001b[0m\u001b[0m\n\u001b[1;32m-> 4694\u001b[1;33m     \u001b[1;32mreturn\u001b[0m \u001b[0mconcatenate\u001b[0m\u001b[1;33m(\u001b[0m\u001b[1;33m(\u001b[0m\u001b[0marr\u001b[0m\u001b[1;33m,\u001b[0m \u001b[0mvalues\u001b[0m\u001b[1;33m)\u001b[0m\u001b[1;33m,\u001b[0m \u001b[0maxis\u001b[0m\u001b[1;33m=\u001b[0m\u001b[0maxis\u001b[0m\u001b[1;33m)\u001b[0m\u001b[1;33m\u001b[0m\u001b[1;33m\u001b[0m\u001b[0m\n\u001b[0m\u001b[0;32m   4695\u001b[0m \u001b[1;33m\u001b[0m\u001b[0m\n\u001b[0;32m   4696\u001b[0m \u001b[1;33m\u001b[0m\u001b[0m\n",
      "\u001b[1;31mValueError\u001b[0m: all the input arrays must have same number of dimensions"
     ]
    }
   ],
   "source": [
    "# create 3D array\n",
    "new_c = np.zeros((2, 3, 4))\n",
    "print(\"Original:\")\n",
    "print(new_c)\n",
    "# append row to array\n",
    "newer_c = np.append(new_c, [[[1, 2, 3, 4]], [1, 2, 3, 4], [[1, 2, 3, 4]]], axis=0)\n",
    "print(\"\\nAppend: \")\n",
    "print(newer_c)"
   ]
  },
  {
   "cell_type": "code",
   "execution_count": 96,
   "metadata": {},
   "outputs": [
    {
     "name": "stdout",
     "output_type": "stream",
     "text": [
      "[[2 4 6 8]\n",
      " [1 3 5 7]\n",
      " [2 3 4 5]]\n",
      "\n",
      "Append:\n",
      "[[2 4 6 8]\n",
      " [1 3 5 7]\n",
      " [2 3 4 5]\n",
      " [4 5 6 7]]\n"
     ]
    }
   ],
   "source": [
    "# I can do it at lower dim!!\n",
    "# add a row to the bottom of the array of specified values\n",
    "c = np.array((([2,4,6,8], [1,3,5,7], [2,3,4,5])))\n",
    "print(c)\n",
    "newc = np.append(c, [[4,5,6,7]], axis=0)\n",
    "print(\"\\nAppend:\")\n",
    "print(newc)"
   ]
  },
  {
   "cell_type": "code",
   "execution_count": 48,
   "metadata": {},
   "outputs": [
    {
     "name": "stdout",
     "output_type": "stream",
     "text": [
      "Help on function append in module numpy:\n",
      "\n",
      "append(arr, values, axis=None)\n",
      "    Append values to the end of an array.\n",
      "    \n",
      "    Parameters\n",
      "    ----------\n",
      "    arr : array_like\n",
      "        Values are appended to a copy of this array.\n",
      "    values : array_like\n",
      "        These values are appended to a copy of `arr`.  It must be of the\n",
      "        correct shape (the same shape as `arr`, excluding `axis`).  If\n",
      "        `axis` is not specified, `values` can be any shape and will be\n",
      "        flattened before use.\n",
      "    axis : int, optional\n",
      "        The axis along which `values` are appended.  If `axis` is not\n",
      "        given, both `arr` and `values` are flattened before use.\n",
      "    \n",
      "    Returns\n",
      "    -------\n",
      "    append : ndarray\n",
      "        A copy of `arr` with `values` appended to `axis`.  Note that\n",
      "        `append` does not occur in-place: a new array is allocated and\n",
      "        filled.  If `axis` is None, `out` is a flattened array.\n",
      "    \n",
      "    See Also\n",
      "    --------\n",
      "    insert : Insert elements into an array.\n",
      "    delete : Delete elements from an array.\n",
      "    \n",
      "    Examples\n",
      "    --------\n",
      "    >>> np.append([1, 2, 3], [[4, 5, 6], [7, 8, 9]])\n",
      "    array([1, 2, 3, 4, 5, 6, 7, 8, 9])\n",
      "    \n",
      "    When `axis` is specified, `values` must have the correct shape.\n",
      "    \n",
      "    >>> np.append([[1, 2, 3], [4, 5, 6]], [[7, 8, 9]], axis=0)\n",
      "    array([[1, 2, 3],\n",
      "           [4, 5, 6],\n",
      "           [7, 8, 9]])\n",
      "    >>> np.append([[1, 2, 3], [4, 5, 6]], [7, 8, 9], axis=0)\n",
      "    Traceback (most recent call last):\n",
      "    ...\n",
      "    ValueError: arrays must have same number of dimensions\n",
      "\n"
     ]
    }
   ],
   "source": [
    "help(np.append)"
   ]
  },
  {
   "cell_type": "markdown",
   "metadata": {},
   "source": [
    "## Task 5d: Inserting and Deleting Elements\n",
    "\n",
    "In the practice notebook perform the following:\n",
    "\n",
    "+ Examine the `help()` documentation for how to use the `insert()` and `delete()` functions.\n",
    "+ Create a matrix and practice inserting a row and deleting a column."
   ]
  },
  {
   "cell_type": "code",
   "execution_count": 95,
   "metadata": {},
   "outputs": [
    {
     "name": "stdout",
     "output_type": "stream",
     "text": [
      "Original:\n",
      "[[[0.97328334 0.09348213 0.12803227 0.17027124 0.61346689 0.09723979]\n",
      "  [0.42025495 0.79576491 0.6695151  0.71194348 0.1592514  0.18445731]\n",
      "  [0.23102068 0.50814005 0.00574132 0.76651059 0.06402487 0.49497463]\n",
      "  [0.78413886 0.79901538 0.29765005 0.26698672 0.63125529 0.99110153]]\n",
      "\n",
      " [[0.09383973 0.61356441 0.63304083 0.13318977 0.55409156 0.66111798]\n",
      "  [0.19292501 0.22299604 0.25452035 0.20725292 0.90765694 0.43460635]\n",
      "  [0.78957833 0.16956271 0.34589945 0.19576618 0.14256432 0.6759094 ]\n",
      "  [0.83668252 0.74882409 0.73731022 0.81109176 0.85138484 0.30427971]]]\n",
      "\n",
      "Inserted:\n",
      "[0.97328334 0.09348213 1.         0.12803227 0.17027124 0.61346689\n",
      " 0.09723979 0.42025495 0.79576491 0.6695151  0.71194348 0.1592514\n",
      " 0.18445731 0.23102068 0.50814005 0.00574132 0.76651059 0.06402487\n",
      " 0.49497463 0.78413886 0.79901538 0.29765005 0.26698672 0.63125529\n",
      " 0.99110153 0.09383973 0.61356441 0.63304083 0.13318977 0.55409156\n",
      " 0.66111798 0.19292501 0.22299604 0.25452035 0.20725292 0.90765694\n",
      " 0.43460635 0.78957833 0.16956271 0.34589945 0.19576618 0.14256432\n",
      " 0.6759094  0.83668252 0.74882409 0.73731022 0.81109176 0.85138484\n",
      " 0.30427971]\n",
      "\n",
      "Inserted:\n",
      "[[[0.97328334 0.09348213 0.12803227 0.17027124 0.61346689 0.09723979]\n",
      "  [0.42025495 0.79576491 0.6695151  0.71194348 0.1592514  0.18445731]\n",
      "  [1.         1.         1.         1.         1.         1.        ]\n",
      "  [0.23102068 0.50814005 0.00574132 0.76651059 0.06402487 0.49497463]\n",
      "  [0.78413886 0.79901538 0.29765005 0.26698672 0.63125529 0.99110153]]\n",
      "\n",
      " [[0.09383973 0.61356441 0.63304083 0.13318977 0.55409156 0.66111798]\n",
      "  [0.19292501 0.22299604 0.25452035 0.20725292 0.90765694 0.43460635]\n",
      "  [1.         1.         1.         1.         1.         1.        ]\n",
      "  [0.78957833 0.16956271 0.34589945 0.19576618 0.14256432 0.6759094 ]\n",
      "  [0.83668252 0.74882409 0.73731022 0.81109176 0.85138484 0.30427971]]]\n"
     ]
    }
   ],
   "source": [
    "print(\"Original:\")\n",
    "print(array1)\n",
    "\n",
    "# insert row of 1's after 2nd row\n",
    "array1_3 = np.insert(array1, 2, 1, axis=1)\n",
    "print(\"\\nInserted:\")\n",
    "print(array1_3)"
   ]
  },
  {
   "cell_type": "code",
   "execution_count": 71,
   "metadata": {
    "scrolled": true
   },
   "outputs": [
    {
     "name": "stdout",
     "output_type": "stream",
     "text": [
      "Help on function insert in module numpy:\n",
      "\n",
      "insert(arr, obj, values, axis=None)\n",
      "    Insert values along the given axis before the given indices.\n",
      "    \n",
      "    Parameters\n",
      "    ----------\n",
      "    arr : array_like\n",
      "        Input array.\n",
      "    obj : int, slice or sequence of ints\n",
      "        Object that defines the index or indices before which `values` is\n",
      "        inserted.\n",
      "    \n",
      "        .. versionadded:: 1.8.0\n",
      "    \n",
      "        Support for multiple insertions when `obj` is a single scalar or a\n",
      "        sequence with one element (similar to calling insert multiple\n",
      "        times).\n",
      "    values : array_like\n",
      "        Values to insert into `arr`. If the type of `values` is different\n",
      "        from that of `arr`, `values` is converted to the type of `arr`.\n",
      "        `values` should be shaped so that ``arr[...,obj,...] = values``\n",
      "        is legal.\n",
      "    axis : int, optional\n",
      "        Axis along which to insert `values`.  If `axis` is None then `arr`\n",
      "        is flattened first.\n",
      "    \n",
      "    Returns\n",
      "    -------\n",
      "    out : ndarray\n",
      "        A copy of `arr` with `values` inserted.  Note that `insert`\n",
      "        does not occur in-place: a new array is returned. If\n",
      "        `axis` is None, `out` is a flattened array.\n",
      "    \n",
      "    See Also\n",
      "    --------\n",
      "    append : Append elements at the end of an array.\n",
      "    concatenate : Join a sequence of arrays along an existing axis.\n",
      "    delete : Delete elements from an array.\n",
      "    \n",
      "    Notes\n",
      "    -----\n",
      "    Note that for higher dimensional inserts `obj=0` behaves very different\n",
      "    from `obj=[0]` just like `arr[:,0,:] = values` is different from\n",
      "    `arr[:,[0],:] = values`.\n",
      "    \n",
      "    Examples\n",
      "    --------\n",
      "    >>> a = np.array([[1, 1], [2, 2], [3, 3]])\n",
      "    >>> a\n",
      "    array([[1, 1],\n",
      "           [2, 2],\n",
      "           [3, 3]])\n",
      "    >>> np.insert(a, 1, 5)\n",
      "    array([1, 5, 1, 2, 2, 3, 3])\n",
      "    >>> np.insert(a, 1, 5, axis=1)\n",
      "    array([[1, 5, 1],\n",
      "           [2, 5, 2],\n",
      "           [3, 5, 3]])\n",
      "    \n",
      "    Difference between sequence and scalars:\n",
      "    \n",
      "    >>> np.insert(a, [1], [[1],[2],[3]], axis=1)\n",
      "    array([[1, 1, 1],\n",
      "           [2, 2, 2],\n",
      "           [3, 3, 3]])\n",
      "    >>> np.array_equal(np.insert(a, 1, [1, 2, 3], axis=1),\n",
      "    ...                np.insert(a, [1], [[1],[2],[3]], axis=1))\n",
      "    True\n",
      "    \n",
      "    >>> b = a.flatten()\n",
      "    >>> b\n",
      "    array([1, 1, 2, 2, 3, 3])\n",
      "    >>> np.insert(b, [2, 2], [5, 6])\n",
      "    array([1, 1, 5, 6, 2, 2, 3, 3])\n",
      "    \n",
      "    >>> np.insert(b, slice(2, 4), [5, 6])\n",
      "    array([1, 1, 5, 2, 6, 2, 3, 3])\n",
      "    \n",
      "    >>> np.insert(b, [2, 2], [7.13, False]) # type casting\n",
      "    array([1, 1, 7, 0, 2, 2, 3, 3])\n",
      "    \n",
      "    >>> x = np.arange(8).reshape(2, 4)\n",
      "    >>> idx = (1, 3)\n",
      "    >>> np.insert(x, idx, 999, axis=1)\n",
      "    array([[  0, 999,   1,   2, 999,   3],\n",
      "           [  4, 999,   5,   6, 999,   7]])\n",
      "\n"
     ]
    }
   ],
   "source": [
    "help(np.insert)"
   ]
  },
  {
   "cell_type": "code",
   "execution_count": 86,
   "metadata": {},
   "outputs": [
    {
     "name": "stdout",
     "output_type": "stream",
     "text": [
      "[[0.21114418 0.3837888  0.31989843 0.78125864]\n",
      " [0.25409005 0.07720371 0.21629241 0.67837409]]\n",
      "[[0.21114418 0.31989843 0.78125864]\n",
      " [0.25409005 0.21629241 0.67837409]]\n"
     ]
    }
   ],
   "source": [
    "print(new_a)\n",
    "# delete second column\n",
    "del_a = np.delete(new_a, 1, axis=1)\n",
    "print(del_a)"
   ]
  },
  {
   "cell_type": "code",
   "execution_count": 78,
   "metadata": {},
   "outputs": [
    {
     "name": "stdout",
     "output_type": "stream",
     "text": [
      "Help on function delete in module numpy:\n",
      "\n",
      "delete(arr, obj, axis=None)\n",
      "    Return a new array with sub-arrays along an axis deleted. For a one\n",
      "    dimensional array, this returns those entries not returned by\n",
      "    `arr[obj]`.\n",
      "    \n",
      "    Parameters\n",
      "    ----------\n",
      "    arr : array_like\n",
      "      Input array.\n",
      "    obj : slice, int or array of ints\n",
      "      Indicate which sub-arrays to remove.\n",
      "    axis : int, optional\n",
      "      The axis along which to delete the subarray defined by `obj`.\n",
      "      If `axis` is None, `obj` is applied to the flattened array.\n",
      "    \n",
      "    Returns\n",
      "    -------\n",
      "    out : ndarray\n",
      "        A copy of `arr` with the elements specified by `obj` removed. Note\n",
      "        that `delete` does not occur in-place. If `axis` is None, `out` is\n",
      "        a flattened array.\n",
      "    \n",
      "    See Also\n",
      "    --------\n",
      "    insert : Insert elements into an array.\n",
      "    append : Append elements at the end of an array.\n",
      "    \n",
      "    Notes\n",
      "    -----\n",
      "    Often it is preferable to use a boolean mask. For example:\n",
      "    \n",
      "    >>> mask = np.ones(len(arr), dtype=bool)\n",
      "    >>> mask[[0,2,4]] = False\n",
      "    >>> result = arr[mask,...]\n",
      "    \n",
      "    Is equivalent to `np.delete(arr, [0,2,4], axis=0)`, but allows further\n",
      "    use of `mask`.\n",
      "    \n",
      "    Examples\n",
      "    --------\n",
      "    >>> arr = np.array([[1,2,3,4], [5,6,7,8], [9,10,11,12]])\n",
      "    >>> arr\n",
      "    array([[ 1,  2,  3,  4],\n",
      "           [ 5,  6,  7,  8],\n",
      "           [ 9, 10, 11, 12]])\n",
      "    >>> np.delete(arr, 1, 0)\n",
      "    array([[ 1,  2,  3,  4],\n",
      "           [ 9, 10, 11, 12]])\n",
      "    \n",
      "    >>> np.delete(arr, np.s_[::2], 1)\n",
      "    array([[ 2,  4],\n",
      "           [ 6,  8],\n",
      "           [10, 12]])\n",
      "    >>> np.delete(arr, [1,3,5], None)\n",
      "    array([ 1,  3,  5,  7,  8,  9, 10, 11, 12])\n",
      "\n"
     ]
    }
   ],
   "source": [
    "help(np.delete)"
   ]
  },
  {
   "cell_type": "markdown",
   "metadata": {},
   "source": [
    "## Task 5e: Joining Arrays\n",
    "\n",
    "In the practice notebook perform the following:\n",
    "\n",
    "+ Execute the code (in the cell below).\n",
    "+ Examine the output from each of the function calls in the cell above. If needed to understand, review the help pages for each tool either using the `help()` command or the [Numpy Function Reference](https://docs.scipy.org/doc/numpy/reference/routines.html). \n",
    "+ Respond to the following question and respond in the second cell below.\n",
    "  + Can you identify what is happening with each of them?"
   ]
  },
  {
   "cell_type": "code",
   "execution_count": 87,
   "metadata": {},
   "outputs": [
    {
     "name": "stdout",
     "output_type": "stream",
     "text": [
      "concatenate:\n",
      "[1 2 3 4 1 1 1 1]\n",
      "\n",
      "vstack:\n",
      "[[1 2 3 4]\n",
      " [1 2 3 4]\n",
      " [5 6 7 8]]\n",
      "\n",
      "hstack:\n",
      "[[1 2 3 4 1 2 3 4]\n",
      " [5 6 7 8 5 6 7 8]]\n",
      "\n",
      "column_stack:\n",
      "[[1 2 3 4 1 2 3 4]\n",
      " [5 6 7 8 5 6 7 8]]\n"
     ]
    }
   ],
   "source": [
    "# Concatentate `my_array` and `x`: similar to np.append()\n",
    "my_array = np.array([1,2,3,4])\n",
    "x = np.array([1,1,1,1])\n",
    "print(\"concatenate:\")\n",
    "print(np.concatenate((my_array, x)))\n",
    "\n",
    "# Stack arrays row-wise\n",
    "my_2d_array = np.array([[1,2,3,4], [5,6,7,8]])\n",
    "print(\"\\nvstack:\")\n",
    "print(np.vstack((my_array, my_2d_array)))\n",
    "\n",
    "# Stack arrays horizontally\n",
    "print(\"\\nhstack:\")\n",
    "print(np.hstack((my_2d_array, my_2d_array)))\n",
    "\n",
    "# Stack arrays column-wise\n",
    "print(\"\\ncolumn_stack:\")\n",
    "print(np.column_stack((my_2d_array, my_2d_array)))"
   ]
  },
  {
   "cell_type": "code",
   "execution_count": 89,
   "metadata": {},
   "outputs": [
    {
     "name": "stdout",
     "output_type": "stream",
     "text": [
      "Help on function hstack in module numpy:\n",
      "\n",
      "hstack(tup)\n",
      "    Stack arrays in sequence horizontally (column wise).\n",
      "    \n",
      "    This is equivalent to concatenation along the second axis, except for 1-D\n",
      "    arrays where it concatenates along the first axis. Rebuilds arrays divided\n",
      "    by `hsplit`.\n",
      "    \n",
      "    This function makes most sense for arrays with up to 3 dimensions. For\n",
      "    instance, for pixel-data with a height (first axis), width (second axis),\n",
      "    and r/g/b channels (third axis). The functions `concatenate`, `stack` and\n",
      "    `block` provide more general stacking and concatenation operations.\n",
      "    \n",
      "    Parameters\n",
      "    ----------\n",
      "    tup : sequence of ndarrays\n",
      "        The arrays must have the same shape along all but the second axis,\n",
      "        except 1-D arrays which can be any length.\n",
      "    \n",
      "    Returns\n",
      "    -------\n",
      "    stacked : ndarray\n",
      "        The array formed by stacking the given arrays.\n",
      "    \n",
      "    See Also\n",
      "    --------\n",
      "    stack : Join a sequence of arrays along a new axis.\n",
      "    vstack : Stack arrays in sequence vertically (row wise).\n",
      "    dstack : Stack arrays in sequence depth wise (along third axis).\n",
      "    concatenate : Join a sequence of arrays along an existing axis.\n",
      "    hsplit : Split array along second axis.\n",
      "    block : Assemble arrays from blocks.\n",
      "    \n",
      "    Examples\n",
      "    --------\n",
      "    >>> a = np.array((1,2,3))\n",
      "    >>> b = np.array((2,3,4))\n",
      "    >>> np.hstack((a,b))\n",
      "    array([1, 2, 3, 2, 3, 4])\n",
      "    >>> a = np.array([[1],[2],[3]])\n",
      "    >>> b = np.array([[2],[3],[4]])\n",
      "    >>> np.hstack((a,b))\n",
      "    array([[1, 2],\n",
      "           [2, 3],\n",
      "           [3, 4]])\n",
      "\n"
     ]
    }
   ],
   "source": [
    "help(np.hstack)"
   ]
  },
  {
   "cell_type": "code",
   "execution_count": 88,
   "metadata": {},
   "outputs": [
    {
     "name": "stdout",
     "output_type": "stream",
     "text": [
      "Help on function column_stack in module numpy:\n",
      "\n",
      "column_stack(tup)\n",
      "    Stack 1-D arrays as columns into a 2-D array.\n",
      "    \n",
      "    Take a sequence of 1-D arrays and stack them as columns\n",
      "    to make a single 2-D array. 2-D arrays are stacked as-is,\n",
      "    just like with `hstack`.  1-D arrays are turned into 2-D columns\n",
      "    first.\n",
      "    \n",
      "    Parameters\n",
      "    ----------\n",
      "    tup : sequence of 1-D or 2-D arrays.\n",
      "        Arrays to stack. All of them must have the same first dimension.\n",
      "    \n",
      "    Returns\n",
      "    -------\n",
      "    stacked : 2-D array\n",
      "        The array formed by stacking the given arrays.\n",
      "    \n",
      "    See Also\n",
      "    --------\n",
      "    stack, hstack, vstack, concatenate\n",
      "    \n",
      "    Examples\n",
      "    --------\n",
      "    >>> a = np.array((1,2,3))\n",
      "    >>> b = np.array((2,3,4))\n",
      "    >>> np.column_stack((a,b))\n",
      "    array([[1, 2],\n",
      "           [2, 3],\n",
      "           [3, 4]])\n",
      "\n"
     ]
    }
   ],
   "source": [
    "help(np.column_stack)"
   ]
  },
  {
   "cell_type": "markdown",
   "metadata": {},
   "source": [
    "- Concatenate: joins arrays along the same axis\n",
    "- Vstack: stacks one array on the top of another, vertically\n",
    "- hstack: joins arrays horizontally, not stacking exactly more like smushing\n",
    "- column_stack: similar to hstack but changes from 1D to 2D"
   ]
  },
  {
   "cell_type": "markdown",
   "metadata": {},
   "source": [
    "## Task 5d: Splitting Arrays\n",
    "\n",
    "In the practice notebook perform the following:\n",
    "\n",
    "+ Execute the code (as shown below).\n",
    "+ Examine the output from each of the function calls in the cell above. If needed to understand, review the help pages for each tool either using the `help()` command or the [Numpy Function Reference](https://docs.scipy.org/doc/numpy/reference/routines.html). \n",
    "+ Respond to the following question and respond in the second cell below.\n",
    "  + Can you identify what is happening with each of them?"
   ]
  },
  {
   "cell_type": "code",
   "execution_count": 90,
   "metadata": {},
   "outputs": [
    {
     "name": "stdout",
     "output_type": "stream",
     "text": [
      "original:\n",
      "[[1 2 3 4]\n",
      " [5 6 7 8]]\n",
      "\n",
      "hsplit:\n",
      "[array([[1, 2],\n",
      "       [5, 6]]), array([[3, 4],\n",
      "       [7, 8]])]\n",
      "\n",
      "vsplit:\n",
      "[array([[1, 2, 3, 4]]), array([[5, 6, 7, 8]])]\n"
     ]
    }
   ],
   "source": [
    "# Create a 2D array.\n",
    "my_2d_array = np.array([[1,2,3,4], [5,6,7,8]])\n",
    "print(\"original:\")\n",
    "print(my_2d_array)\n",
    "\n",
    "# Split `my_stacked_array` horizontally at the 2nd index\n",
    "print(\"\\nhsplit:\")\n",
    "print(np.hsplit(my_2d_array, 2))\n",
    "\n",
    "# Split `my_stacked_array` vertically at the 2nd index\n",
    "print(\"\\nvsplit:\")\n",
    "print(np.vsplit(my_2d_array, 2))"
   ]
  },
  {
   "cell_type": "markdown",
   "metadata": {},
   "source": [
    "- hsplit: split array after specified column (axis=1)\n",
    "- vsplit: split array after specified row (axis=0)"
   ]
  },
  {
   "cell_type": "code",
   "execution_count": 92,
   "metadata": {},
   "outputs": [
    {
     "name": "stdout",
     "output_type": "stream",
     "text": [
      "Help on function vsplit in module numpy:\n",
      "\n",
      "vsplit(ary, indices_or_sections)\n",
      "    Split an array into multiple sub-arrays vertically (row-wise).\n",
      "    \n",
      "    Please refer to the ``split`` documentation.  ``vsplit`` is equivalent\n",
      "    to ``split`` with `axis=0` (default), the array is always split along the\n",
      "    first axis regardless of the array dimension.\n",
      "    \n",
      "    See Also\n",
      "    --------\n",
      "    split : Split an array into multiple sub-arrays of equal size.\n",
      "    \n",
      "    Examples\n",
      "    --------\n",
      "    >>> x = np.arange(16.0).reshape(4, 4)\n",
      "    >>> x\n",
      "    array([[  0.,   1.,   2.,   3.],\n",
      "           [  4.,   5.,   6.,   7.],\n",
      "           [  8.,   9.,  10.,  11.],\n",
      "           [ 12.,  13.,  14.,  15.]])\n",
      "    >>> np.vsplit(x, 2)\n",
      "    [array([[ 0.,  1.,  2.,  3.],\n",
      "           [ 4.,  5.,  6.,  7.]]),\n",
      "     array([[  8.,   9.,  10.,  11.],\n",
      "           [ 12.,  13.,  14.,  15.]])]\n",
      "    >>> np.vsplit(x, np.array([3, 6]))\n",
      "    [array([[  0.,   1.,   2.,   3.],\n",
      "           [  4.,   5.,   6.,   7.],\n",
      "           [  8.,   9.,  10.,  11.]]),\n",
      "     array([[ 12.,  13.,  14.,  15.]]),\n",
      "     array([], dtype=float64)]\n",
      "    \n",
      "    With a higher dimensional array the split is still along the first axis.\n",
      "    \n",
      "    >>> x = np.arange(8.0).reshape(2, 2, 2)\n",
      "    >>> x\n",
      "    array([[[ 0.,  1.],\n",
      "            [ 2.,  3.]],\n",
      "           [[ 4.,  5.],\n",
      "            [ 6.,  7.]]])\n",
      "    >>> np.vsplit(x, 2)\n",
      "    [array([[[ 0.,  1.],\n",
      "            [ 2.,  3.]]]),\n",
      "     array([[[ 4.,  5.],\n",
      "            [ 6.,  7.]]])]\n",
      "\n"
     ]
    }
   ],
   "source": [
    "help(np.vsplit)"
   ]
  },
  {
   "cell_type": "code",
   "execution_count": null,
   "metadata": {},
   "outputs": [],
   "source": []
  }
 ],
 "metadata": {
  "kernelspec": {
   "display_name": "Python 3",
   "language": "python",
   "name": "python3"
  },
  "language_info": {
   "codemirror_mode": {
    "name": "ipython",
    "version": 3
   },
   "file_extension": ".py",
   "mimetype": "text/x-python",
   "name": "python",
   "nbconvert_exporter": "python",
   "pygments_lexer": "ipython3",
   "version": "3.7.4"
  }
 },
 "nbformat": 4,
 "nbformat_minor": 4
}
